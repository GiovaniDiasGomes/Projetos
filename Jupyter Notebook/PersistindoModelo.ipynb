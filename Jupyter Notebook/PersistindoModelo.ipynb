{
 "cells": [
  {
   "cell_type": "markdown",
   "id": "e4213c8f",
   "metadata": {},
   "source": [
    "# Persistindo o modelo\n",
    "- Agora vamos importar o modelo que exportamos\n",
    "    - https://scikit-learn.org/stable/model_persistence.html"
   ]
  },
  {
   "cell_type": "code",
   "execution_count": 1,
   "id": "2ef611ea",
   "metadata": {},
   "outputs": [],
   "source": [
    "# Importando o joblib\n",
    "from joblib import load\n",
    "import pandas as pd\n",
    "from sklearn.metrics import mean_absolute_error"
   ]
  },
  {
   "cell_type": "code",
   "execution_count": 2,
   "id": "63b5d136",
   "metadata": {},
   "outputs": [],
   "source": [
    "# Importando o modelo\n",
    "regressor = load('regressor_arvore_decisao_teste.joblib')"
   ]
  },
  {
   "cell_type": "code",
   "execution_count": 3,
   "id": "f4917f9c",
   "metadata": {},
   "outputs": [],
   "source": [
    "#**Podemos novamente testar esse modelo nos dados de teste**\n",
    "# Importando a base\n",
    "X_teste = pd.read_excel('X_teste.xlsx')\n",
    "y_teste = pd.read_excel('y_teste.xlsx')"
   ]
  },
  {
   "cell_type": "code",
   "execution_count": 4,
   "id": "2c1f9ccc",
   "metadata": {},
   "outputs": [
    {
     "data": {
      "text/html": [
       "<div>\n",
       "<style scoped>\n",
       "    .dataframe tbody tr th:only-of-type {\n",
       "        vertical-align: middle;\n",
       "    }\n",
       "\n",
       "    .dataframe tbody tr th {\n",
       "        vertical-align: top;\n",
       "    }\n",
       "\n",
       "    .dataframe thead th {\n",
       "        text-align: right;\n",
       "    }\n",
       "</style>\n",
       "<table border=\"1\" class=\"dataframe\">\n",
       "  <thead>\n",
       "    <tr style=\"text-align: right;\">\n",
       "      <th></th>\n",
       "      <th>mes_compra</th>\n",
       "      <th>ano_compra</th>\n",
       "      <th>beleza</th>\n",
       "      <th>carro</th>\n",
       "      <th>casa</th>\n",
       "      <th>construção</th>\n",
       "      <th>crianças</th>\n",
       "      <th>eletro_eletronicos</th>\n",
       "      <th>esporte</th>\n",
       "      <th>games</th>\n",
       "      <th>outros</th>\n",
       "      <th>presentes</th>\n",
       "      <th>produtos_diversos</th>\n",
       "      <th>telefonia_audio_video</th>\n",
       "    </tr>\n",
       "  </thead>\n",
       "  <tbody>\n",
       "    <tr>\n",
       "      <th>0</th>\n",
       "      <td>3</td>\n",
       "      <td>2018</td>\n",
       "      <td>1</td>\n",
       "      <td>0</td>\n",
       "      <td>0</td>\n",
       "      <td>0</td>\n",
       "      <td>0</td>\n",
       "      <td>0</td>\n",
       "      <td>0</td>\n",
       "      <td>0</td>\n",
       "      <td>0</td>\n",
       "      <td>0</td>\n",
       "      <td>0</td>\n",
       "      <td>0</td>\n",
       "    </tr>\n",
       "    <tr>\n",
       "      <th>1</th>\n",
       "      <td>3</td>\n",
       "      <td>2018</td>\n",
       "      <td>0</td>\n",
       "      <td>1</td>\n",
       "      <td>0</td>\n",
       "      <td>0</td>\n",
       "      <td>0</td>\n",
       "      <td>0</td>\n",
       "      <td>0</td>\n",
       "      <td>0</td>\n",
       "      <td>0</td>\n",
       "      <td>0</td>\n",
       "      <td>0</td>\n",
       "      <td>0</td>\n",
       "    </tr>\n",
       "    <tr>\n",
       "      <th>2</th>\n",
       "      <td>3</td>\n",
       "      <td>2018</td>\n",
       "      <td>0</td>\n",
       "      <td>0</td>\n",
       "      <td>1</td>\n",
       "      <td>0</td>\n",
       "      <td>0</td>\n",
       "      <td>0</td>\n",
       "      <td>0</td>\n",
       "      <td>0</td>\n",
       "      <td>0</td>\n",
       "      <td>0</td>\n",
       "      <td>0</td>\n",
       "      <td>0</td>\n",
       "    </tr>\n",
       "  </tbody>\n",
       "</table>\n",
       "</div>"
      ],
      "text/plain": [
       "   mes_compra  ano_compra  beleza  carro  casa  construção  crianças  \\\n",
       "0           3        2018       1      0     0           0         0   \n",
       "1           3        2018       0      1     0           0         0   \n",
       "2           3        2018       0      0     1           0         0   \n",
       "\n",
       "   eletro_eletronicos  esporte  games  outros  presentes  produtos_diversos  \\\n",
       "0                   0        0      0       0          0                  0   \n",
       "1                   0        0      0       0          0                  0   \n",
       "2                   0        0      0       0          0                  0   \n",
       "\n",
       "   telefonia_audio_video  \n",
       "0                      0  \n",
       "1                      0  \n",
       "2                      0  "
      ]
     },
     "execution_count": 4,
     "metadata": {},
     "output_type": "execute_result"
    }
   ],
   "source": [
    "# Visualizando a base importada\n",
    "X_teste.head(3)"
   ]
  },
  {
   "cell_type": "code",
   "execution_count": 5,
   "id": "a24d76c6",
   "metadata": {},
   "outputs": [],
   "source": [
    "# Fazendo o predict e avaliando o erro\n",
    "previsao = regressor.predict(X_teste)"
   ]
  },
  {
   "cell_type": "code",
   "execution_count": 6,
   "id": "e968ef77",
   "metadata": {},
   "outputs": [
    {
     "data": {
      "text/plain": [
       "1310.715278520996"
      ]
     },
     "execution_count": 6,
     "metadata": {},
     "output_type": "execute_result"
    }
   ],
   "source": [
    "# Avaliando o erro\n",
    "# Importando o erro médio absoluto\n",
    "mean_absolute_error(y_teste, previsao)"
   ]
  },
  {
   "cell_type": "markdown",
   "id": "2afb6210",
   "metadata": {},
   "source": [
    "**Nesse caso vimos que nosso modelo continua funcionando perfeitamente!**<br>\n",
    "**<font color='blue'>Então podemos fazer a previsão para novos dados!</font>**\n",
    "- Vamos usar a base `previsao.xlsx`"
   ]
  },
  {
   "cell_type": "code",
   "execution_count": 7,
   "id": "0a232b45",
   "metadata": {},
   "outputs": [],
   "source": [
    "# Importando uma nova base\n",
    "base = pd.read_excel('previsao.xlsx')"
   ]
  },
  {
   "cell_type": "code",
   "execution_count": 8,
   "id": "3ca35c36",
   "metadata": {},
   "outputs": [
    {
     "data": {
      "text/html": [
       "<div>\n",
       "<style scoped>\n",
       "    .dataframe tbody tr th:only-of-type {\n",
       "        vertical-align: middle;\n",
       "    }\n",
       "\n",
       "    .dataframe tbody tr th {\n",
       "        vertical-align: top;\n",
       "    }\n",
       "\n",
       "    .dataframe thead th {\n",
       "        text-align: right;\n",
       "    }\n",
       "</style>\n",
       "<table border=\"1\" class=\"dataframe\">\n",
       "  <thead>\n",
       "    <tr style=\"text-align: right;\">\n",
       "      <th></th>\n",
       "      <th>order_purchase_timestamp</th>\n",
       "      <th>mes_compra</th>\n",
       "      <th>ano_compra</th>\n",
       "      <th>grupo</th>\n",
       "      <th>price</th>\n",
       "    </tr>\n",
       "  </thead>\n",
       "  <tbody>\n",
       "    <tr>\n",
       "      <th>0</th>\n",
       "      <td>2018-08-21</td>\n",
       "      <td>8</td>\n",
       "      <td>2018</td>\n",
       "      <td>presentes</td>\n",
       "      <td>NaN</td>\n",
       "    </tr>\n",
       "    <tr>\n",
       "      <th>1</th>\n",
       "      <td>2018-08-21</td>\n",
       "      <td>8</td>\n",
       "      <td>2018</td>\n",
       "      <td>outros</td>\n",
       "      <td>NaN</td>\n",
       "    </tr>\n",
       "    <tr>\n",
       "      <th>2</th>\n",
       "      <td>2018-08-21</td>\n",
       "      <td>8</td>\n",
       "      <td>2018</td>\n",
       "      <td>carro</td>\n",
       "      <td>NaN</td>\n",
       "    </tr>\n",
       "  </tbody>\n",
       "</table>\n",
       "</div>"
      ],
      "text/plain": [
       "  order_purchase_timestamp  mes_compra  ano_compra      grupo  price\n",
       "0               2018-08-21           8        2018  presentes    NaN\n",
       "1               2018-08-21           8        2018     outros    NaN\n",
       "2               2018-08-21           8        2018      carro    NaN"
      ]
     },
     "execution_count": 8,
     "metadata": {},
     "output_type": "execute_result"
    }
   ],
   "source": [
    "# Visualizando essa base\n",
    "base.head(3)"
   ]
  },
  {
   "cell_type": "code",
   "execution_count": 9,
   "id": "74ead2ec",
   "metadata": {},
   "outputs": [],
   "source": [
    "#**Para conseguir tratar essa base, vamos precisar fazer os mesmos tratamentos que fizemos**\n",
    "# Usando o get_dummies no grupo\n",
    "base2 = pd.concat([base, pd.get_dummies(base.grupo)], axis=1)"
   ]
  },
  {
   "cell_type": "code",
   "execution_count": 10,
   "id": "9649dc94",
   "metadata": {},
   "outputs": [],
   "source": [
    "# E apagando as colunas de data e texto\n",
    "base2 = base2.drop(['order_purchase_timestamp', 'grupo'], axis=1)"
   ]
  },
  {
   "cell_type": "code",
   "execution_count": 11,
   "id": "39b65997",
   "metadata": {},
   "outputs": [],
   "source": [
    "# Definindo o X que vamos usar para fazer a previsão\n",
    "base2 = base2.drop(['price'], axis=1)"
   ]
  },
  {
   "cell_type": "code",
   "execution_count": 12,
   "id": "8d3a9365",
   "metadata": {},
   "outputs": [],
   "source": [
    "# Fazendo a previsão\n",
    "base['price'] = regressor.predict(base2)"
   ]
  },
  {
   "cell_type": "code",
   "execution_count": 13,
   "id": "105ddd06",
   "metadata": {},
   "outputs": [],
   "source": [
    "# Exportando para Excel\n",
    "base.to_excel('resultado_base_final.xlsx', index=False)"
   ]
  }
 ],
 "metadata": {
  "kernelspec": {
   "display_name": "Python 3 (ipykernel)",
   "language": "python",
   "name": "python3"
  },
  "language_info": {
   "codemirror_mode": {
    "name": "ipython",
    "version": 3
   },
   "file_extension": ".py",
   "mimetype": "text/x-python",
   "name": "python",
   "nbconvert_exporter": "python",
   "pygments_lexer": "ipython3",
   "version": "3.9.7"
  }
 },
 "nbformat": 4,
 "nbformat_minor": 5
}
