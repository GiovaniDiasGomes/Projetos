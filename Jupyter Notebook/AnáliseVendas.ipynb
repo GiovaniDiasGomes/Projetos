{
 "cells": [
  {
   "cell_type": "markdown",
   "id": "36f43d8e",
   "metadata": {},
   "source": [
    "# Analisando as vendas da empresa\n",
    "- Vamos utilizar a base disponível em:\n",
    "    - https://www.kaggle.com/datasets/olistbr/brazilian-ecommerce?select=olist_customers_dataset.csv\n",
    "    - Essa é uma base de dados real, porém anonimizada.\n",
    "- Fizemos alguns tratamentos nos dados e disponibilizamos em arquivos:\n",
    "    - `base_vendas.xlxs` - todos os dados de venda por item da empresa, onde cada linha representa 1 item vendido.\n",
    "    - `verifica_base.xlxs` - base com as categorias dos produtos.\n",
    "- Utilizaremos três modelos de aprendizado de máquina para verificar qual deles apresenta o melhor desempenho."
   ]
  },
  {
   "cell_type": "code",
   "execution_count": 1,
   "id": "60f6f08f",
   "metadata": {},
   "outputs": [],
   "source": [
    "# Importando as bibliotecas\n",
    "import pandas as pd\n",
    "import datetime as dt\n",
    "import matplotlib.pyplot as plt\n",
    "from sklearn.linear_model import LinearRegression\n",
    "from sklearn.tree import DecisionTreeRegressor\n",
    "from sklearn import svm\n",
    "from sklearn.metrics import mean_absolute_error\n",
    "from joblib import dump"
   ]
  },
  {
   "cell_type": "code",
   "execution_count": 2,
   "id": "6f9c6d22",
   "metadata": {},
   "outputs": [],
   "source": [
    "# Importando a base de vendas\n",
    "vendas = pd.read_excel('base_vendas.xlsx')"
   ]
  },
  {
   "cell_type": "code",
   "execution_count": 3,
   "id": "36d2b871",
   "metadata": {},
   "outputs": [
    {
     "data": {
      "text/html": [
       "<div>\n",
       "<style scoped>\n",
       "    .dataframe tbody tr th:only-of-type {\n",
       "        vertical-align: middle;\n",
       "    }\n",
       "\n",
       "    .dataframe tbody tr th {\n",
       "        vertical-align: top;\n",
       "    }\n",
       "\n",
       "    .dataframe thead th {\n",
       "        text-align: right;\n",
       "    }\n",
       "</style>\n",
       "<table border=\"1\" class=\"dataframe\">\n",
       "  <thead>\n",
       "    <tr style=\"text-align: right;\">\n",
       "      <th></th>\n",
       "      <th>order_id</th>\n",
       "      <th>customer_id</th>\n",
       "      <th>order_status</th>\n",
       "      <th>order_purchase_timestamp</th>\n",
       "      <th>order_approved_at</th>\n",
       "      <th>order_delivered_carrier_date</th>\n",
       "      <th>order_delivered_customer_date</th>\n",
       "      <th>order_estimated_delivery_date</th>\n",
       "      <th>order_item_id</th>\n",
       "      <th>product_id</th>\n",
       "      <th>...</th>\n",
       "      <th>price</th>\n",
       "      <th>freight_value</th>\n",
       "      <th>product_category_name</th>\n",
       "      <th>customer_unique_id</th>\n",
       "      <th>customer_city</th>\n",
       "      <th>customer_state</th>\n",
       "      <th>dia_compra</th>\n",
       "      <th>mes_compra</th>\n",
       "      <th>ano_compra</th>\n",
       "      <th>ano_mes</th>\n",
       "    </tr>\n",
       "  </thead>\n",
       "  <tbody>\n",
       "    <tr>\n",
       "      <th>0</th>\n",
       "      <td>e481f51cbdc54678b7cc49136f2d6af7</td>\n",
       "      <td>9ef432eb6251297304e76186b10a928d</td>\n",
       "      <td>delivered</td>\n",
       "      <td>2017-10-02</td>\n",
       "      <td>2017-10-02</td>\n",
       "      <td>2017-10-04</td>\n",
       "      <td>2017-10-10</td>\n",
       "      <td>2017-10-18</td>\n",
       "      <td>1.0</td>\n",
       "      <td>87285b34884572647811a353c7ac498a</td>\n",
       "      <td>...</td>\n",
       "      <td>29.99</td>\n",
       "      <td>8.72</td>\n",
       "      <td>utilidades_domesticas</td>\n",
       "      <td>7c396fd4830fd04220f754e42b4e5bff</td>\n",
       "      <td>sao paulo</td>\n",
       "      <td>SP</td>\n",
       "      <td>2</td>\n",
       "      <td>10</td>\n",
       "      <td>2017</td>\n",
       "      <td>2017-10</td>\n",
       "    </tr>\n",
       "    <tr>\n",
       "      <th>1</th>\n",
       "      <td>53cdb2fc8bc7dce0b6741e2150273451</td>\n",
       "      <td>b0830fb4747a6c6d20dea0b8c802d7ef</td>\n",
       "      <td>delivered</td>\n",
       "      <td>2018-07-24</td>\n",
       "      <td>2018-07-26</td>\n",
       "      <td>2018-07-26</td>\n",
       "      <td>2018-08-07</td>\n",
       "      <td>2018-08-13</td>\n",
       "      <td>1.0</td>\n",
       "      <td>595fac2a385ac33a80bd5114aec74eb8</td>\n",
       "      <td>...</td>\n",
       "      <td>118.70</td>\n",
       "      <td>22.76</td>\n",
       "      <td>perfumaria</td>\n",
       "      <td>af07308b275d755c9edb36a90c618231</td>\n",
       "      <td>barreiras</td>\n",
       "      <td>BA</td>\n",
       "      <td>24</td>\n",
       "      <td>7</td>\n",
       "      <td>2018</td>\n",
       "      <td>2018-07</td>\n",
       "    </tr>\n",
       "    <tr>\n",
       "      <th>2</th>\n",
       "      <td>47770eb9100c2d0c44946d9cf07ec65d</td>\n",
       "      <td>41ce2a54c0b03bf3443c3d931a367089</td>\n",
       "      <td>delivered</td>\n",
       "      <td>2018-08-08</td>\n",
       "      <td>2018-08-08</td>\n",
       "      <td>2018-08-08</td>\n",
       "      <td>2018-08-17</td>\n",
       "      <td>2018-09-04</td>\n",
       "      <td>1.0</td>\n",
       "      <td>aa4383b373c6aca5d8797843e5594415</td>\n",
       "      <td>...</td>\n",
       "      <td>159.90</td>\n",
       "      <td>19.22</td>\n",
       "      <td>automotivo</td>\n",
       "      <td>3a653a41f6f9fc3d2a113cf8398680e8</td>\n",
       "      <td>vianopolis</td>\n",
       "      <td>GO</td>\n",
       "      <td>8</td>\n",
       "      <td>8</td>\n",
       "      <td>2018</td>\n",
       "      <td>2018-08</td>\n",
       "    </tr>\n",
       "  </tbody>\n",
       "</table>\n",
       "<p>3 rows × 22 columns</p>\n",
       "</div>"
      ],
      "text/plain": [
       "                           order_id                       customer_id  \\\n",
       "0  e481f51cbdc54678b7cc49136f2d6af7  9ef432eb6251297304e76186b10a928d   \n",
       "1  53cdb2fc8bc7dce0b6741e2150273451  b0830fb4747a6c6d20dea0b8c802d7ef   \n",
       "2  47770eb9100c2d0c44946d9cf07ec65d  41ce2a54c0b03bf3443c3d931a367089   \n",
       "\n",
       "  order_status order_purchase_timestamp order_approved_at  \\\n",
       "0    delivered               2017-10-02        2017-10-02   \n",
       "1    delivered               2018-07-24        2018-07-26   \n",
       "2    delivered               2018-08-08        2018-08-08   \n",
       "\n",
       "  order_delivered_carrier_date order_delivered_customer_date  \\\n",
       "0                   2017-10-04                    2017-10-10   \n",
       "1                   2018-07-26                    2018-08-07   \n",
       "2                   2018-08-08                    2018-08-17   \n",
       "\n",
       "  order_estimated_delivery_date  order_item_id  \\\n",
       "0                    2017-10-18            1.0   \n",
       "1                    2018-08-13            1.0   \n",
       "2                    2018-09-04            1.0   \n",
       "\n",
       "                         product_id  ...   price freight_value  \\\n",
       "0  87285b34884572647811a353c7ac498a  ...   29.99          8.72   \n",
       "1  595fac2a385ac33a80bd5114aec74eb8  ...  118.70         22.76   \n",
       "2  aa4383b373c6aca5d8797843e5594415  ...  159.90         19.22   \n",
       "\n",
       "   product_category_name                customer_unique_id customer_city  \\\n",
       "0  utilidades_domesticas  7c396fd4830fd04220f754e42b4e5bff     sao paulo   \n",
       "1             perfumaria  af07308b275d755c9edb36a90c618231     barreiras   \n",
       "2             automotivo  3a653a41f6f9fc3d2a113cf8398680e8    vianopolis   \n",
       "\n",
       "  customer_state dia_compra mes_compra  ano_compra  ano_mes  \n",
       "0             SP          2         10        2017  2017-10  \n",
       "1             BA         24          7        2018  2018-07  \n",
       "2             GO          8          8        2018  2018-08  \n",
       "\n",
       "[3 rows x 22 columns]"
      ]
     },
     "execution_count": 3,
     "metadata": {},
     "output_type": "execute_result"
    }
   ],
   "source": [
    "# Visualizando a base\n",
    "vendas.head(3)"
   ]
  },
  {
   "cell_type": "code",
   "execution_count": 4,
   "id": "f1819b14",
   "metadata": {},
   "outputs": [
    {
     "name": "stdout",
     "output_type": "stream",
     "text": [
      "<class 'pandas.core.frame.DataFrame'>\n",
      "RangeIndex: 111923 entries, 0 to 111922\n",
      "Data columns (total 22 columns):\n",
      " #   Column                         Non-Null Count   Dtype         \n",
      "---  ------                         --------------   -----         \n",
      " 0   order_id                       111923 non-null  object        \n",
      " 1   customer_id                    111923 non-null  object        \n",
      " 2   order_status                   111923 non-null  object        \n",
      " 3   order_purchase_timestamp       111923 non-null  datetime64[ns]\n",
      " 4   order_approved_at              111808 non-null  datetime64[ns]\n",
      " 5   order_delivered_carrier_date   110050 non-null  datetime64[ns]\n",
      " 6   order_delivered_customer_date  108804 non-null  datetime64[ns]\n",
      " 7   order_estimated_delivery_date  111923 non-null  datetime64[ns]\n",
      " 8   order_item_id                  111206 non-null  float64       \n",
      " 9   product_id                     111206 non-null  object        \n",
      " 10  seller_id                      111206 non-null  object        \n",
      " 11  shipping_limit_date            111206 non-null  datetime64[ns]\n",
      " 12  price                          111206 non-null  float64       \n",
      " 13  freight_value                  111206 non-null  float64       \n",
      " 14  product_category_name          109608 non-null  object        \n",
      " 15  customer_unique_id             111923 non-null  object        \n",
      " 16  customer_city                  111923 non-null  object        \n",
      " 17  customer_state                 111923 non-null  object        \n",
      " 18  dia_compra                     111923 non-null  int64         \n",
      " 19  mes_compra                     111923 non-null  int64         \n",
      " 20  ano_compra                     111923 non-null  int64         \n",
      " 21  ano_mes                        111923 non-null  object        \n",
      "dtypes: datetime64[ns](6), float64(3), int64(3), object(10)\n",
      "memory usage: 18.8+ MB\n"
     ]
    }
   ],
   "source": [
    "# Verificando as informações da base\n",
    "vendas.info()"
   ]
  },
  {
   "cell_type": "code",
   "execution_count": 5,
   "id": "89d7c1d4",
   "metadata": {},
   "outputs": [
    {
     "data": {
      "text/html": [
       "<div>\n",
       "<style scoped>\n",
       "    .dataframe tbody tr th:only-of-type {\n",
       "        vertical-align: middle;\n",
       "    }\n",
       "\n",
       "    .dataframe tbody tr th {\n",
       "        vertical-align: top;\n",
       "    }\n",
       "\n",
       "    .dataframe thead th {\n",
       "        text-align: right;\n",
       "    }\n",
       "</style>\n",
       "<table border=\"1\" class=\"dataframe\">\n",
       "  <thead>\n",
       "    <tr style=\"text-align: right;\">\n",
       "      <th></th>\n",
       "      <th>order_item_id</th>\n",
       "      <th>price</th>\n",
       "      <th>freight_value</th>\n",
       "      <th>dia_compra</th>\n",
       "      <th>mes_compra</th>\n",
       "      <th>ano_compra</th>\n",
       "    </tr>\n",
       "  </thead>\n",
       "  <tbody>\n",
       "    <tr>\n",
       "      <th>count</th>\n",
       "      <td>111206.000000</td>\n",
       "      <td>111206.000000</td>\n",
       "      <td>111206.000000</td>\n",
       "      <td>111923.000000</td>\n",
       "      <td>111923.000000</td>\n",
       "      <td>111923.000000</td>\n",
       "    </tr>\n",
       "    <tr>\n",
       "      <th>mean</th>\n",
       "      <td>1.198020</td>\n",
       "      <td>120.845955</td>\n",
       "      <td>20.032079</td>\n",
       "      <td>15.512853</td>\n",
       "      <td>6.000670</td>\n",
       "      <td>2017.541167</td>\n",
       "    </tr>\n",
       "    <tr>\n",
       "      <th>std</th>\n",
       "      <td>0.706445</td>\n",
       "      <td>183.941756</td>\n",
       "      <td>15.847991</td>\n",
       "      <td>8.667442</td>\n",
       "      <td>3.241051</td>\n",
       "      <td>0.498305</td>\n",
       "    </tr>\n",
       "    <tr>\n",
       "      <th>min</th>\n",
       "      <td>1.000000</td>\n",
       "      <td>0.850000</td>\n",
       "      <td>0.000000</td>\n",
       "      <td>1.000000</td>\n",
       "      <td>1.000000</td>\n",
       "      <td>2017.000000</td>\n",
       "    </tr>\n",
       "    <tr>\n",
       "      <th>25%</th>\n",
       "      <td>1.000000</td>\n",
       "      <td>39.900000</td>\n",
       "      <td>13.080000</td>\n",
       "      <td>8.000000</td>\n",
       "      <td>3.000000</td>\n",
       "      <td>2017.000000</td>\n",
       "    </tr>\n",
       "    <tr>\n",
       "      <th>50%</th>\n",
       "      <td>1.000000</td>\n",
       "      <td>74.990000</td>\n",
       "      <td>16.280000</td>\n",
       "      <td>15.000000</td>\n",
       "      <td>6.000000</td>\n",
       "      <td>2018.000000</td>\n",
       "    </tr>\n",
       "    <tr>\n",
       "      <th>75%</th>\n",
       "      <td>1.000000</td>\n",
       "      <td>134.990000</td>\n",
       "      <td>21.180000</td>\n",
       "      <td>23.000000</td>\n",
       "      <td>8.000000</td>\n",
       "      <td>2018.000000</td>\n",
       "    </tr>\n",
       "    <tr>\n",
       "      <th>max</th>\n",
       "      <td>21.000000</td>\n",
       "      <td>6735.000000</td>\n",
       "      <td>409.680000</td>\n",
       "      <td>31.000000</td>\n",
       "      <td>12.000000</td>\n",
       "      <td>2018.000000</td>\n",
       "    </tr>\n",
       "  </tbody>\n",
       "</table>\n",
       "</div>"
      ],
      "text/plain": [
       "       order_item_id          price  freight_value     dia_compra  \\\n",
       "count  111206.000000  111206.000000  111206.000000  111923.000000   \n",
       "mean        1.198020     120.845955      20.032079      15.512853   \n",
       "std         0.706445     183.941756      15.847991       8.667442   \n",
       "min         1.000000       0.850000       0.000000       1.000000   \n",
       "25%         1.000000      39.900000      13.080000       8.000000   \n",
       "50%         1.000000      74.990000      16.280000      15.000000   \n",
       "75%         1.000000     134.990000      21.180000      23.000000   \n",
       "max        21.000000    6735.000000     409.680000      31.000000   \n",
       "\n",
       "          mes_compra     ano_compra  \n",
       "count  111923.000000  111923.000000  \n",
       "mean        6.000670    2017.541167  \n",
       "std         3.241051       0.498305  \n",
       "min         1.000000    2017.000000  \n",
       "25%         3.000000    2017.000000  \n",
       "50%         6.000000    2018.000000  \n",
       "75%         8.000000    2018.000000  \n",
       "max        12.000000    2018.000000  "
      ]
     },
     "execution_count": 5,
     "metadata": {},
     "output_type": "execute_result"
    }
   ],
   "source": [
    "# Também analisando as informações estatísticas\n",
    "vendas.describe()"
   ]
  },
  {
   "cell_type": "code",
   "execution_count": 6,
   "id": "2a194414",
   "metadata": {},
   "outputs": [
    {
     "data": {
      "text/html": [
       "<div>\n",
       "<style scoped>\n",
       "    .dataframe tbody tr th:only-of-type {\n",
       "        vertical-align: middle;\n",
       "    }\n",
       "\n",
       "    .dataframe tbody tr th {\n",
       "        vertical-align: top;\n",
       "    }\n",
       "\n",
       "    .dataframe thead th {\n",
       "        text-align: right;\n",
       "    }\n",
       "</style>\n",
       "<table border=\"1\" class=\"dataframe\">\n",
       "  <thead>\n",
       "    <tr style=\"text-align: right;\">\n",
       "      <th></th>\n",
       "      <th>categoria</th>\n",
       "      <th>grupo</th>\n",
       "    </tr>\n",
       "  </thead>\n",
       "  <tbody>\n",
       "    <tr>\n",
       "      <th>0</th>\n",
       "      <td>agro_industria_e_comercio</td>\n",
       "      <td>outros</td>\n",
       "    </tr>\n",
       "    <tr>\n",
       "      <th>1</th>\n",
       "      <td>alimentos</td>\n",
       "      <td>outros</td>\n",
       "    </tr>\n",
       "    <tr>\n",
       "      <th>2</th>\n",
       "      <td>alimentos_bebidas</td>\n",
       "      <td>outros</td>\n",
       "    </tr>\n",
       "  </tbody>\n",
       "</table>\n",
       "</div>"
      ],
      "text/plain": [
       "                   categoria   grupo\n",
       "0  agro_industria_e_comercio  outros\n",
       "1                  alimentos  outros\n",
       "2          alimentos_bebidas  outros"
      ]
     },
     "execution_count": 6,
     "metadata": {},
     "output_type": "execute_result"
    }
   ],
   "source": [
    "# Importando a base de grupos\n",
    "grupos = pd.read_excel('verifica_base.xlsx')\n",
    "grupos.head(3)"
   ]
  },
  {
   "cell_type": "code",
   "execution_count": 7,
   "id": "e5d94302",
   "metadata": {},
   "outputs": [],
   "source": [
    "# Podemos unir essas duas bases utilizando o merge\n",
    "vendas = pd.merge(vendas, \n",
    "                  grupos, \n",
    "                  how='left', \n",
    "                  left_on='product_category_name',\n",
    "                  right_on='categoria')"
   ]
  },
  {
   "cell_type": "code",
   "execution_count": 8,
   "id": "66aeb5e6",
   "metadata": {},
   "outputs": [],
   "source": [
    "# E também apagar as colunas que não estamos usando\n",
    "vendas = vendas.drop(['product_category_name','categoria'],axis=1)"
   ]
  },
  {
   "cell_type": "code",
   "execution_count": 9,
   "id": "053d8d9b",
   "metadata": {},
   "outputs": [
    {
     "name": "stdout",
     "output_type": "stream",
     "text": [
      "<class 'pandas.core.frame.DataFrame'>\n",
      "Int64Index: 111923 entries, 0 to 111922\n",
      "Data columns (total 22 columns):\n",
      " #   Column                         Non-Null Count   Dtype         \n",
      "---  ------                         --------------   -----         \n",
      " 0   order_id                       111923 non-null  object        \n",
      " 1   customer_id                    111923 non-null  object        \n",
      " 2   order_status                   111923 non-null  object        \n",
      " 3   order_purchase_timestamp       111923 non-null  datetime64[ns]\n",
      " 4   order_approved_at              111808 non-null  datetime64[ns]\n",
      " 5   order_delivered_carrier_date   110050 non-null  datetime64[ns]\n",
      " 6   order_delivered_customer_date  108804 non-null  datetime64[ns]\n",
      " 7   order_estimated_delivery_date  111923 non-null  datetime64[ns]\n",
      " 8   order_item_id                  111206 non-null  float64       \n",
      " 9   product_id                     111206 non-null  object        \n",
      " 10  seller_id                      111206 non-null  object        \n",
      " 11  shipping_limit_date            111206 non-null  datetime64[ns]\n",
      " 12  price                          111206 non-null  float64       \n",
      " 13  freight_value                  111206 non-null  float64       \n",
      " 14  customer_unique_id             111923 non-null  object        \n",
      " 15  customer_city                  111923 non-null  object        \n",
      " 16  customer_state                 111923 non-null  object        \n",
      " 17  dia_compra                     111923 non-null  int64         \n",
      " 18  mes_compra                     111923 non-null  int64         \n",
      " 19  ano_compra                     111923 non-null  int64         \n",
      " 20  ano_mes                        111923 non-null  object        \n",
      " 21  grupo                          109608 non-null  object        \n",
      "dtypes: datetime64[ns](6), float64(3), int64(3), object(10)\n",
      "memory usage: 19.6+ MB\n"
     ]
    }
   ],
   "source": [
    "# Verificando as informações da tabela\n",
    "vendas.info()"
   ]
  },
  {
   "cell_type": "code",
   "execution_count": 10,
   "id": "e52a7971",
   "metadata": {},
   "outputs": [
    {
     "data": {
      "text/plain": [
       "order_id                            0\n",
       "customer_id                         0\n",
       "order_status                        0\n",
       "order_purchase_timestamp            0\n",
       "order_approved_at                 115\n",
       "order_delivered_carrier_date     1873\n",
       "order_delivered_customer_date    3119\n",
       "order_estimated_delivery_date       0\n",
       "order_item_id                     717\n",
       "product_id                        717\n",
       "seller_id                         717\n",
       "shipping_limit_date               717\n",
       "price                             717\n",
       "freight_value                     717\n",
       "customer_unique_id                  0\n",
       "customer_city                       0\n",
       "customer_state                      0\n",
       "dia_compra                          0\n",
       "mes_compra                          0\n",
       "ano_compra                          0\n",
       "ano_mes                             0\n",
       "grupo                            2315\n",
       "dtype: int64"
      ]
     },
     "execution_count": 10,
     "metadata": {},
     "output_type": "execute_result"
    }
   ],
   "source": [
    "# Visualizando itens da base que são nulos\n",
    "vendas.isnull().sum()"
   ]
  },
  {
   "cell_type": "code",
   "execution_count": 11,
   "id": "7beb8fdd",
   "metadata": {},
   "outputs": [],
   "source": [
    "# Retirando os valores onde o preço é vazio\n",
    "vendas = vendas[vendas.price.notnull()]"
   ]
  },
  {
   "cell_type": "code",
   "execution_count": 12,
   "id": "42a63ae9",
   "metadata": {},
   "outputs": [],
   "source": [
    "# Retirando as vendas que foram canceladas\n",
    "vendas = vendas[vendas.order_status != 'canceled']"
   ]
  },
  {
   "cell_type": "code",
   "execution_count": 13,
   "id": "51a9d8e6",
   "metadata": {},
   "outputs": [],
   "source": [
    "# Retirando o dia \"black friday\"\n",
    "vendas = vendas[vendas.order_purchase_timestamp != dt.datetime(2017,11,24)]"
   ]
  },
  {
   "cell_type": "code",
   "execution_count": 14,
   "id": "35211a04",
   "metadata": {},
   "outputs": [],
   "source": [
    "# Retirando o dia após a \"black friday\"\n",
    "vendas = vendas[vendas.order_purchase_timestamp != dt.datetime(2017,11,25)]"
   ]
  },
  {
   "cell_type": "code",
   "execution_count": 15,
   "id": "037f02b4",
   "metadata": {},
   "outputs": [],
   "source": [
    "# Substituindo valores vazios no grupo por \"outros\"\n",
    "vendas.loc[vendas.grupo.isnull(),'grupo'] = 'outros'"
   ]
  },
  {
   "cell_type": "code",
   "execution_count": 16,
   "id": "28b2dbee",
   "metadata": {},
   "outputs": [
    {
     "data": {
      "text/plain": [
       "order_id                            0\n",
       "customer_id                         0\n",
       "order_status                        0\n",
       "order_purchase_timestamp            0\n",
       "order_approved_at                  15\n",
       "order_delivered_carrier_date      688\n",
       "order_delivered_customer_date    1845\n",
       "order_estimated_delivery_date       0\n",
       "order_item_id                       0\n",
       "product_id                          0\n",
       "seller_id                           0\n",
       "shipping_limit_date                 0\n",
       "price                               0\n",
       "freight_value                       0\n",
       "customer_unique_id                  0\n",
       "customer_city                       0\n",
       "customer_state                      0\n",
       "dia_compra                          0\n",
       "mes_compra                          0\n",
       "ano_compra                          0\n",
       "ano_mes                             0\n",
       "grupo                               0\n",
       "dtype: int64"
      ]
     },
     "execution_count": 16,
     "metadata": {},
     "output_type": "execute_result"
    }
   ],
   "source": [
    "# Contando quantos valores nulod/vazios existem em cada coluna\n",
    "vendas.isnull().sum()"
   ]
  },
  {
   "cell_type": "code",
   "execution_count": 17,
   "id": "e4826a04",
   "metadata": {},
   "outputs": [
    {
     "data": {
      "text/html": [
       "<div>\n",
       "<style scoped>\n",
       "    .dataframe tbody tr th:only-of-type {\n",
       "        vertical-align: middle;\n",
       "    }\n",
       "\n",
       "    .dataframe tbody tr th {\n",
       "        vertical-align: top;\n",
       "    }\n",
       "\n",
       "    .dataframe thead th {\n",
       "        text-align: right;\n",
       "    }\n",
       "</style>\n",
       "<table border=\"1\" class=\"dataframe\">\n",
       "  <thead>\n",
       "    <tr style=\"text-align: right;\">\n",
       "      <th></th>\n",
       "      <th>order_id</th>\n",
       "      <th>customer_id</th>\n",
       "      <th>order_status</th>\n",
       "      <th>order_purchase_timestamp</th>\n",
       "      <th>order_approved_at</th>\n",
       "      <th>order_delivered_carrier_date</th>\n",
       "      <th>order_delivered_customer_date</th>\n",
       "      <th>order_estimated_delivery_date</th>\n",
       "      <th>order_item_id</th>\n",
       "      <th>product_id</th>\n",
       "      <th>...</th>\n",
       "      <th>price</th>\n",
       "      <th>freight_value</th>\n",
       "      <th>customer_unique_id</th>\n",
       "      <th>customer_city</th>\n",
       "      <th>customer_state</th>\n",
       "      <th>dia_compra</th>\n",
       "      <th>mes_compra</th>\n",
       "      <th>ano_compra</th>\n",
       "      <th>ano_mes</th>\n",
       "      <th>grupo</th>\n",
       "    </tr>\n",
       "  </thead>\n",
       "  <tbody>\n",
       "    <tr>\n",
       "      <th>5909</th>\n",
       "      <td>e04abd8149ef81b95221e88f6ed9ab6a</td>\n",
       "      <td>2127dc6603ac33544953ef05ec155771</td>\n",
       "      <td>delivered</td>\n",
       "      <td>2017-02-18</td>\n",
       "      <td>NaT</td>\n",
       "      <td>2017-02-23</td>\n",
       "      <td>2017-03-01</td>\n",
       "      <td>2017-03-17</td>\n",
       "      <td>1.0</td>\n",
       "      <td>0e20a07ca1714df21f9b07ca3bf7c682</td>\n",
       "      <td>...</td>\n",
       "      <td>309.90</td>\n",
       "      <td>39.11</td>\n",
       "      <td>8a9a08c7ca8900a200d83cf838a07e0b</td>\n",
       "      <td>cotia</td>\n",
       "      <td>SP</td>\n",
       "      <td>18</td>\n",
       "      <td>2</td>\n",
       "      <td>2017</td>\n",
       "      <td>2017-02</td>\n",
       "      <td>eletro_eletronicos</td>\n",
       "    </tr>\n",
       "    <tr>\n",
       "      <th>18599</th>\n",
       "      <td>8a9adc69528e1001fc68dd0aaebbb54a</td>\n",
       "      <td>4c1ccc74e00993733742a3c786dc3c1f</td>\n",
       "      <td>delivered</td>\n",
       "      <td>2017-02-18</td>\n",
       "      <td>NaT</td>\n",
       "      <td>2017-02-23</td>\n",
       "      <td>2017-03-02</td>\n",
       "      <td>2017-03-21</td>\n",
       "      <td>1.0</td>\n",
       "      <td>2c2b6a28924791234bd386bddb17512e</td>\n",
       "      <td>...</td>\n",
       "      <td>379.00</td>\n",
       "      <td>17.86</td>\n",
       "      <td>91efb7fcabc17925099dced52435837f</td>\n",
       "      <td>novo hamburgo</td>\n",
       "      <td>RS</td>\n",
       "      <td>18</td>\n",
       "      <td>2</td>\n",
       "      <td>2017</td>\n",
       "      <td>2017-02</td>\n",
       "      <td>construção</td>\n",
       "    </tr>\n",
       "    <tr>\n",
       "      <th>21347</th>\n",
       "      <td>7013bcfc1c97fe719a7b5e05e61c12db</td>\n",
       "      <td>2941af76d38100e0f8740a374f1a5dc3</td>\n",
       "      <td>delivered</td>\n",
       "      <td>2017-02-18</td>\n",
       "      <td>NaT</td>\n",
       "      <td>2017-02-22</td>\n",
       "      <td>2017-03-01</td>\n",
       "      <td>2017-03-17</td>\n",
       "      <td>1.0</td>\n",
       "      <td>583916a5dae918f5e89baec139141c54</td>\n",
       "      <td>...</td>\n",
       "      <td>49.99</td>\n",
       "      <td>15.53</td>\n",
       "      <td>e1f01a1bd6485e58ad3c769a5427d8a8</td>\n",
       "      <td>sao paulo</td>\n",
       "      <td>SP</td>\n",
       "      <td>18</td>\n",
       "      <td>2</td>\n",
       "      <td>2017</td>\n",
       "      <td>2017-02</td>\n",
       "      <td>outros</td>\n",
       "    </tr>\n",
       "    <tr>\n",
       "      <th>25425</th>\n",
       "      <td>5cf925b116421afa85ee25e99b4c34fb</td>\n",
       "      <td>29c35fc91fc13fb5073c8f30505d860d</td>\n",
       "      <td>delivered</td>\n",
       "      <td>2017-02-18</td>\n",
       "      <td>NaT</td>\n",
       "      <td>2017-02-22</td>\n",
       "      <td>2017-03-09</td>\n",
       "      <td>2017-03-31</td>\n",
       "      <td>1.0</td>\n",
       "      <td>c6dd917a0be2a704582055949915ab32</td>\n",
       "      <td>...</td>\n",
       "      <td>79.99</td>\n",
       "      <td>26.82</td>\n",
       "      <td>7e1a5ca61b572d76b64b6688b9f96473</td>\n",
       "      <td>caninde</td>\n",
       "      <td>CE</td>\n",
       "      <td>18</td>\n",
       "      <td>2</td>\n",
       "      <td>2017</td>\n",
       "      <td>2017-02</td>\n",
       "      <td>outros</td>\n",
       "    </tr>\n",
       "    <tr>\n",
       "      <th>25982</th>\n",
       "      <td>12a95a3c06dbaec84bcfb0e2da5d228a</td>\n",
       "      <td>1e101e0daffaddce8159d25a8e53f2b2</td>\n",
       "      <td>delivered</td>\n",
       "      <td>2017-02-17</td>\n",
       "      <td>NaT</td>\n",
       "      <td>2017-02-22</td>\n",
       "      <td>2017-03-02</td>\n",
       "      <td>2017-03-20</td>\n",
       "      <td>1.0</td>\n",
       "      <td>c6dd917a0be2a704582055949915ab32</td>\n",
       "      <td>...</td>\n",
       "      <td>79.99</td>\n",
       "      <td>15.77</td>\n",
       "      <td>c8822fce1d0bfa7ddf0da24fff947172</td>\n",
       "      <td>macae</td>\n",
       "      <td>RJ</td>\n",
       "      <td>17</td>\n",
       "      <td>2</td>\n",
       "      <td>2017</td>\n",
       "      <td>2017-02</td>\n",
       "      <td>outros</td>\n",
       "    </tr>\n",
       "    <tr>\n",
       "      <th>30111</th>\n",
       "      <td>c1d4211b3dae76144deccd6c74144a88</td>\n",
       "      <td>684cb238dc5b5d6366244e0e0776b450</td>\n",
       "      <td>delivered</td>\n",
       "      <td>2017-01-19</td>\n",
       "      <td>NaT</td>\n",
       "      <td>2017-01-25</td>\n",
       "      <td>2017-01-30</td>\n",
       "      <td>2017-03-01</td>\n",
       "      <td>1.0</td>\n",
       "      <td>5ab02ca028398131a5ae91401eb49788</td>\n",
       "      <td>...</td>\n",
       "      <td>39.99</td>\n",
       "      <td>14.52</td>\n",
       "      <td>6ff8b0d7b35d5c945633b8d60165691b</td>\n",
       "      <td>santos</td>\n",
       "      <td>SP</td>\n",
       "      <td>19</td>\n",
       "      <td>1</td>\n",
       "      <td>2017</td>\n",
       "      <td>2017-01</td>\n",
       "      <td>esporte</td>\n",
       "    </tr>\n",
       "    <tr>\n",
       "      <th>43022</th>\n",
       "      <td>d69e5d356402adc8cf17e08b5033acfb</td>\n",
       "      <td>68d081753ad4fe22fc4d410a9eb1ca01</td>\n",
       "      <td>delivered</td>\n",
       "      <td>2017-02-19</td>\n",
       "      <td>NaT</td>\n",
       "      <td>2017-02-23</td>\n",
       "      <td>2017-03-02</td>\n",
       "      <td>2017-03-27</td>\n",
       "      <td>1.0</td>\n",
       "      <td>cae2e38942c8489d9d7a87a3f525c06b</td>\n",
       "      <td>...</td>\n",
       "      <td>149.80</td>\n",
       "      <td>13.63</td>\n",
       "      <td>2e0a2166aa23da2472c6a60c4af6f7a6</td>\n",
       "      <td>sao paulo</td>\n",
       "      <td>SP</td>\n",
       "      <td>19</td>\n",
       "      <td>2</td>\n",
       "      <td>2017</td>\n",
       "      <td>2017-02</td>\n",
       "      <td>casa</td>\n",
       "    </tr>\n",
       "    <tr>\n",
       "      <th>44195</th>\n",
       "      <td>d77031d6a3c8a52f019764e68f211c69</td>\n",
       "      <td>0bf35cac6cc7327065da879e2d90fae8</td>\n",
       "      <td>delivered</td>\n",
       "      <td>2017-02-18</td>\n",
       "      <td>NaT</td>\n",
       "      <td>2017-02-23</td>\n",
       "      <td>2017-03-02</td>\n",
       "      <td>2017-03-22</td>\n",
       "      <td>1.0</td>\n",
       "      <td>02a79d79e818ad0be36cfc843a6af7ad</td>\n",
       "      <td>...</td>\n",
       "      <td>28.99</td>\n",
       "      <td>10.96</td>\n",
       "      <td>c4c0011e639bdbcf26059ddc38bd3c18</td>\n",
       "      <td>varzea paulista</td>\n",
       "      <td>SP</td>\n",
       "      <td>18</td>\n",
       "      <td>2</td>\n",
       "      <td>2017</td>\n",
       "      <td>2017-02</td>\n",
       "      <td>esporte</td>\n",
       "    </tr>\n",
       "    <tr>\n",
       "      <th>54379</th>\n",
       "      <td>7002a78c79c519ac54022d4f8a65e6e8</td>\n",
       "      <td>d5de688c321096d15508faae67a27051</td>\n",
       "      <td>delivered</td>\n",
       "      <td>2017-01-19</td>\n",
       "      <td>NaT</td>\n",
       "      <td>2017-01-27</td>\n",
       "      <td>2017-02-06</td>\n",
       "      <td>2017-03-16</td>\n",
       "      <td>1.0</td>\n",
       "      <td>c3b271f47e73d0c9ccf1b43b7606c705</td>\n",
       "      <td>...</td>\n",
       "      <td>45.90</td>\n",
       "      <td>14.52</td>\n",
       "      <td>d49f3dae6bad25d05160fc17aca5942d</td>\n",
       "      <td>conselheiro lafaiete</td>\n",
       "      <td>MG</td>\n",
       "      <td>19</td>\n",
       "      <td>1</td>\n",
       "      <td>2017</td>\n",
       "      <td>2017-01</td>\n",
       "      <td>casa</td>\n",
       "    </tr>\n",
       "    <tr>\n",
       "      <th>69318</th>\n",
       "      <td>2eecb0d85f281280f79fa00f9cec1a95</td>\n",
       "      <td>a3d3c38e58b9d2dfb9207cab690b6310</td>\n",
       "      <td>delivered</td>\n",
       "      <td>2017-02-17</td>\n",
       "      <td>NaT</td>\n",
       "      <td>2017-02-22</td>\n",
       "      <td>2017-03-03</td>\n",
       "      <td>2017-03-20</td>\n",
       "      <td>1.0</td>\n",
       "      <td>4fd676d9c4723d475026e40aeae56957</td>\n",
       "      <td>...</td>\n",
       "      <td>135.00</td>\n",
       "      <td>19.23</td>\n",
       "      <td>5a4fa4919cbf2b049e72be460a380e5b</td>\n",
       "      <td>abaete</td>\n",
       "      <td>MG</td>\n",
       "      <td>17</td>\n",
       "      <td>2</td>\n",
       "      <td>2017</td>\n",
       "      <td>2017-02</td>\n",
       "      <td>construção</td>\n",
       "    </tr>\n",
       "    <tr>\n",
       "      <th>70806</th>\n",
       "      <td>51eb2eebd5d76a24625b31c33dd41449</td>\n",
       "      <td>07a2a7e0f63fd8cb757ed77d4245623c</td>\n",
       "      <td>delivered</td>\n",
       "      <td>2017-02-18</td>\n",
       "      <td>NaT</td>\n",
       "      <td>2017-02-23</td>\n",
       "      <td>2017-03-07</td>\n",
       "      <td>2017-03-29</td>\n",
       "      <td>1.0</td>\n",
       "      <td>7868a64aa111bbb4f41f8e1146c0becb</td>\n",
       "      <td>...</td>\n",
       "      <td>59.90</td>\n",
       "      <td>17.16</td>\n",
       "      <td>79af1bbf230a2630487975aa5d7d6220</td>\n",
       "      <td>paraisopolis</td>\n",
       "      <td>MG</td>\n",
       "      <td>18</td>\n",
       "      <td>2</td>\n",
       "      <td>2017</td>\n",
       "      <td>2017-02</td>\n",
       "      <td>casa</td>\n",
       "    </tr>\n",
       "    <tr>\n",
       "      <th>76112</th>\n",
       "      <td>88083e8f64d95b932164187484d90212</td>\n",
       "      <td>f67cd1a215aae2a1074638bbd35a223a</td>\n",
       "      <td>delivered</td>\n",
       "      <td>2017-02-18</td>\n",
       "      <td>NaT</td>\n",
       "      <td>2017-02-22</td>\n",
       "      <td>2017-03-02</td>\n",
       "      <td>2017-03-21</td>\n",
       "      <td>1.0</td>\n",
       "      <td>8c5876b1c7768217964f353bc7e64393</td>\n",
       "      <td>...</td>\n",
       "      <td>49.00</td>\n",
       "      <td>14.52</td>\n",
       "      <td>bc1896dc77f49e6dec880445a9b443a3</td>\n",
       "      <td>rio de janeiro</td>\n",
       "      <td>RJ</td>\n",
       "      <td>18</td>\n",
       "      <td>2</td>\n",
       "      <td>2017</td>\n",
       "      <td>2017-02</td>\n",
       "      <td>telefonia_audio_video</td>\n",
       "    </tr>\n",
       "    <tr>\n",
       "      <th>76113</th>\n",
       "      <td>88083e8f64d95b932164187484d90212</td>\n",
       "      <td>f67cd1a215aae2a1074638bbd35a223a</td>\n",
       "      <td>delivered</td>\n",
       "      <td>2017-02-18</td>\n",
       "      <td>NaT</td>\n",
       "      <td>2017-02-22</td>\n",
       "      <td>2017-03-02</td>\n",
       "      <td>2017-03-21</td>\n",
       "      <td>2.0</td>\n",
       "      <td>8c5876b1c7768217964f353bc7e64393</td>\n",
       "      <td>...</td>\n",
       "      <td>49.00</td>\n",
       "      <td>14.52</td>\n",
       "      <td>bc1896dc77f49e6dec880445a9b443a3</td>\n",
       "      <td>rio de janeiro</td>\n",
       "      <td>RJ</td>\n",
       "      <td>18</td>\n",
       "      <td>2</td>\n",
       "      <td>2017</td>\n",
       "      <td>2017-02</td>\n",
       "      <td>telefonia_audio_video</td>\n",
       "    </tr>\n",
       "    <tr>\n",
       "      <th>81428</th>\n",
       "      <td>3c0b8706b065f9919d0505d3b3343881</td>\n",
       "      <td>d85919cb3c0529589c6fa617f5f43281</td>\n",
       "      <td>delivered</td>\n",
       "      <td>2017-02-17</td>\n",
       "      <td>NaT</td>\n",
       "      <td>2017-02-22</td>\n",
       "      <td>2017-03-03</td>\n",
       "      <td>2017-03-23</td>\n",
       "      <td>1.0</td>\n",
       "      <td>db8ed3d08891d16a2438a67ab3acb740</td>\n",
       "      <td>...</td>\n",
       "      <td>133.99</td>\n",
       "      <td>23.20</td>\n",
       "      <td>c094ac95fcd52f821809ec232a7a6956</td>\n",
       "      <td>sao vendelino</td>\n",
       "      <td>RS</td>\n",
       "      <td>17</td>\n",
       "      <td>2</td>\n",
       "      <td>2017</td>\n",
       "      <td>2017-02</td>\n",
       "      <td>casa</td>\n",
       "    </tr>\n",
       "    <tr>\n",
       "      <th>95536</th>\n",
       "      <td>2babbb4b15e6d2dfe95e2de765c97bce</td>\n",
       "      <td>74bebaf46603f9340e3b50c6b086f992</td>\n",
       "      <td>delivered</td>\n",
       "      <td>2017-02-18</td>\n",
       "      <td>NaT</td>\n",
       "      <td>2017-02-22</td>\n",
       "      <td>2017-03-03</td>\n",
       "      <td>2017-03-31</td>\n",
       "      <td>1.0</td>\n",
       "      <td>c6dd917a0be2a704582055949915ab32</td>\n",
       "      <td>...</td>\n",
       "      <td>79.99</td>\n",
       "      <td>26.82</td>\n",
       "      <td>f79be7c08dd24b72d34634f1b89333a4</td>\n",
       "      <td>sao jose de ribamar</td>\n",
       "      <td>MA</td>\n",
       "      <td>18</td>\n",
       "      <td>2</td>\n",
       "      <td>2017</td>\n",
       "      <td>2017-02</td>\n",
       "      <td>outros</td>\n",
       "    </tr>\n",
       "  </tbody>\n",
       "</table>\n",
       "<p>15 rows × 22 columns</p>\n",
       "</div>"
      ],
      "text/plain": [
       "                               order_id                       customer_id  \\\n",
       "5909   e04abd8149ef81b95221e88f6ed9ab6a  2127dc6603ac33544953ef05ec155771   \n",
       "18599  8a9adc69528e1001fc68dd0aaebbb54a  4c1ccc74e00993733742a3c786dc3c1f   \n",
       "21347  7013bcfc1c97fe719a7b5e05e61c12db  2941af76d38100e0f8740a374f1a5dc3   \n",
       "25425  5cf925b116421afa85ee25e99b4c34fb  29c35fc91fc13fb5073c8f30505d860d   \n",
       "25982  12a95a3c06dbaec84bcfb0e2da5d228a  1e101e0daffaddce8159d25a8e53f2b2   \n",
       "30111  c1d4211b3dae76144deccd6c74144a88  684cb238dc5b5d6366244e0e0776b450   \n",
       "43022  d69e5d356402adc8cf17e08b5033acfb  68d081753ad4fe22fc4d410a9eb1ca01   \n",
       "44195  d77031d6a3c8a52f019764e68f211c69  0bf35cac6cc7327065da879e2d90fae8   \n",
       "54379  7002a78c79c519ac54022d4f8a65e6e8  d5de688c321096d15508faae67a27051   \n",
       "69318  2eecb0d85f281280f79fa00f9cec1a95  a3d3c38e58b9d2dfb9207cab690b6310   \n",
       "70806  51eb2eebd5d76a24625b31c33dd41449  07a2a7e0f63fd8cb757ed77d4245623c   \n",
       "76112  88083e8f64d95b932164187484d90212  f67cd1a215aae2a1074638bbd35a223a   \n",
       "76113  88083e8f64d95b932164187484d90212  f67cd1a215aae2a1074638bbd35a223a   \n",
       "81428  3c0b8706b065f9919d0505d3b3343881  d85919cb3c0529589c6fa617f5f43281   \n",
       "95536  2babbb4b15e6d2dfe95e2de765c97bce  74bebaf46603f9340e3b50c6b086f992   \n",
       "\n",
       "      order_status order_purchase_timestamp order_approved_at  \\\n",
       "5909     delivered               2017-02-18               NaT   \n",
       "18599    delivered               2017-02-18               NaT   \n",
       "21347    delivered               2017-02-18               NaT   \n",
       "25425    delivered               2017-02-18               NaT   \n",
       "25982    delivered               2017-02-17               NaT   \n",
       "30111    delivered               2017-01-19               NaT   \n",
       "43022    delivered               2017-02-19               NaT   \n",
       "44195    delivered               2017-02-18               NaT   \n",
       "54379    delivered               2017-01-19               NaT   \n",
       "69318    delivered               2017-02-17               NaT   \n",
       "70806    delivered               2017-02-18               NaT   \n",
       "76112    delivered               2017-02-18               NaT   \n",
       "76113    delivered               2017-02-18               NaT   \n",
       "81428    delivered               2017-02-17               NaT   \n",
       "95536    delivered               2017-02-18               NaT   \n",
       "\n",
       "      order_delivered_carrier_date order_delivered_customer_date  \\\n",
       "5909                    2017-02-23                    2017-03-01   \n",
       "18599                   2017-02-23                    2017-03-02   \n",
       "21347                   2017-02-22                    2017-03-01   \n",
       "25425                   2017-02-22                    2017-03-09   \n",
       "25982                   2017-02-22                    2017-03-02   \n",
       "30111                   2017-01-25                    2017-01-30   \n",
       "43022                   2017-02-23                    2017-03-02   \n",
       "44195                   2017-02-23                    2017-03-02   \n",
       "54379                   2017-01-27                    2017-02-06   \n",
       "69318                   2017-02-22                    2017-03-03   \n",
       "70806                   2017-02-23                    2017-03-07   \n",
       "76112                   2017-02-22                    2017-03-02   \n",
       "76113                   2017-02-22                    2017-03-02   \n",
       "81428                   2017-02-22                    2017-03-03   \n",
       "95536                   2017-02-22                    2017-03-03   \n",
       "\n",
       "      order_estimated_delivery_date  order_item_id  \\\n",
       "5909                     2017-03-17            1.0   \n",
       "18599                    2017-03-21            1.0   \n",
       "21347                    2017-03-17            1.0   \n",
       "25425                    2017-03-31            1.0   \n",
       "25982                    2017-03-20            1.0   \n",
       "30111                    2017-03-01            1.0   \n",
       "43022                    2017-03-27            1.0   \n",
       "44195                    2017-03-22            1.0   \n",
       "54379                    2017-03-16            1.0   \n",
       "69318                    2017-03-20            1.0   \n",
       "70806                    2017-03-29            1.0   \n",
       "76112                    2017-03-21            1.0   \n",
       "76113                    2017-03-21            2.0   \n",
       "81428                    2017-03-23            1.0   \n",
       "95536                    2017-03-31            1.0   \n",
       "\n",
       "                             product_id  ...   price freight_value  \\\n",
       "5909   0e20a07ca1714df21f9b07ca3bf7c682  ...  309.90         39.11   \n",
       "18599  2c2b6a28924791234bd386bddb17512e  ...  379.00         17.86   \n",
       "21347  583916a5dae918f5e89baec139141c54  ...   49.99         15.53   \n",
       "25425  c6dd917a0be2a704582055949915ab32  ...   79.99         26.82   \n",
       "25982  c6dd917a0be2a704582055949915ab32  ...   79.99         15.77   \n",
       "30111  5ab02ca028398131a5ae91401eb49788  ...   39.99         14.52   \n",
       "43022  cae2e38942c8489d9d7a87a3f525c06b  ...  149.80         13.63   \n",
       "44195  02a79d79e818ad0be36cfc843a6af7ad  ...   28.99         10.96   \n",
       "54379  c3b271f47e73d0c9ccf1b43b7606c705  ...   45.90         14.52   \n",
       "69318  4fd676d9c4723d475026e40aeae56957  ...  135.00         19.23   \n",
       "70806  7868a64aa111bbb4f41f8e1146c0becb  ...   59.90         17.16   \n",
       "76112  8c5876b1c7768217964f353bc7e64393  ...   49.00         14.52   \n",
       "76113  8c5876b1c7768217964f353bc7e64393  ...   49.00         14.52   \n",
       "81428  db8ed3d08891d16a2438a67ab3acb740  ...  133.99         23.20   \n",
       "95536  c6dd917a0be2a704582055949915ab32  ...   79.99         26.82   \n",
       "\n",
       "                     customer_unique_id         customer_city customer_state  \\\n",
       "5909   8a9a08c7ca8900a200d83cf838a07e0b                 cotia             SP   \n",
       "18599  91efb7fcabc17925099dced52435837f         novo hamburgo             RS   \n",
       "21347  e1f01a1bd6485e58ad3c769a5427d8a8             sao paulo             SP   \n",
       "25425  7e1a5ca61b572d76b64b6688b9f96473               caninde             CE   \n",
       "25982  c8822fce1d0bfa7ddf0da24fff947172                 macae             RJ   \n",
       "30111  6ff8b0d7b35d5c945633b8d60165691b                santos             SP   \n",
       "43022  2e0a2166aa23da2472c6a60c4af6f7a6             sao paulo             SP   \n",
       "44195  c4c0011e639bdbcf26059ddc38bd3c18       varzea paulista             SP   \n",
       "54379  d49f3dae6bad25d05160fc17aca5942d  conselheiro lafaiete             MG   \n",
       "69318  5a4fa4919cbf2b049e72be460a380e5b                abaete             MG   \n",
       "70806  79af1bbf230a2630487975aa5d7d6220          paraisopolis             MG   \n",
       "76112  bc1896dc77f49e6dec880445a9b443a3        rio de janeiro             RJ   \n",
       "76113  bc1896dc77f49e6dec880445a9b443a3        rio de janeiro             RJ   \n",
       "81428  c094ac95fcd52f821809ec232a7a6956         sao vendelino             RS   \n",
       "95536  f79be7c08dd24b72d34634f1b89333a4   sao jose de ribamar             MA   \n",
       "\n",
       "      dia_compra mes_compra  ano_compra  ano_mes                  grupo  \n",
       "5909          18          2        2017  2017-02     eletro_eletronicos  \n",
       "18599         18          2        2017  2017-02             construção  \n",
       "21347         18          2        2017  2017-02                 outros  \n",
       "25425         18          2        2017  2017-02                 outros  \n",
       "25982         17          2        2017  2017-02                 outros  \n",
       "30111         19          1        2017  2017-01                esporte  \n",
       "43022         19          2        2017  2017-02                   casa  \n",
       "44195         18          2        2017  2017-02                esporte  \n",
       "54379         19          1        2017  2017-01                   casa  \n",
       "69318         17          2        2017  2017-02             construção  \n",
       "70806         18          2        2017  2017-02                   casa  \n",
       "76112         18          2        2017  2017-02  telefonia_audio_video  \n",
       "76113         18          2        2017  2017-02  telefonia_audio_video  \n",
       "81428         17          2        2017  2017-02                   casa  \n",
       "95536         18          2        2017  2017-02                 outros  \n",
       "\n",
       "[15 rows x 22 columns]"
      ]
     },
     "execution_count": 17,
     "metadata": {},
     "output_type": "execute_result"
    }
   ],
   "source": [
    "# Entendendo as 15 colunas com order_approved_at vazias\n",
    "vendas[vendas.order_approved_at.isnull()]"
   ]
  },
  {
   "cell_type": "code",
   "execution_count": 18,
   "id": "13913dc2",
   "metadata": {},
   "outputs": [],
   "source": [
    "# Apagando essa coluna\n",
    "vendas = vendas.drop('order_approved_at', axis=1)"
   ]
  },
  {
   "cell_type": "code",
   "execution_count": 19,
   "id": "e6f2ccc5",
   "metadata": {},
   "outputs": [
    {
     "data": {
      "image/png": "[encoded data removed]",
      "text/plain": [
       "<Figure size 432x288 with 1 Axes>"
      ]
     },
     "metadata": {
      "needs_background": "light"
     },
     "output_type": "display_data"
    }
   ],
   "source": [
    "# Criando um boxplot para verificar outlier\n",
    "vendas.groupby('order_purchase_timestamp')['price'].sum().plot.box();"
   ]
  },
  {
   "cell_type": "code",
   "execution_count": 20,
   "id": "d39efc5c",
   "metadata": {},
   "outputs": [],
   "source": [
    "# Exportando para o Excel\n",
    "vendas.to_excel('base_vendas_nova.xlsx', index=False)"
   ]
  },
  {
   "cell_type": "code",
   "execution_count": 21,
   "id": "d53d8fde",
   "metadata": {},
   "outputs": [
    {
     "data": {
      "text/html": [
       "<div>\n",
       "<style scoped>\n",
       "    .dataframe tbody tr th:only-of-type {\n",
       "        vertical-align: middle;\n",
       "    }\n",
       "\n",
       "    .dataframe tbody tr th {\n",
       "        vertical-align: top;\n",
       "    }\n",
       "\n",
       "    .dataframe thead th {\n",
       "        text-align: right;\n",
       "    }\n",
       "</style>\n",
       "<table border=\"1\" class=\"dataframe\">\n",
       "  <thead>\n",
       "    <tr style=\"text-align: right;\">\n",
       "      <th></th>\n",
       "      <th>order_id</th>\n",
       "      <th>customer_id</th>\n",
       "      <th>order_status</th>\n",
       "      <th>order_purchase_timestamp</th>\n",
       "      <th>order_delivered_carrier_date</th>\n",
       "      <th>order_delivered_customer_date</th>\n",
       "      <th>order_estimated_delivery_date</th>\n",
       "      <th>order_item_id</th>\n",
       "      <th>product_id</th>\n",
       "      <th>seller_id</th>\n",
       "      <th>...</th>\n",
       "      <th>price</th>\n",
       "      <th>freight_value</th>\n",
       "      <th>customer_unique_id</th>\n",
       "      <th>customer_city</th>\n",
       "      <th>customer_state</th>\n",
       "      <th>dia_compra</th>\n",
       "      <th>mes_compra</th>\n",
       "      <th>ano_compra</th>\n",
       "      <th>ano_mes</th>\n",
       "      <th>grupo</th>\n",
       "    </tr>\n",
       "  </thead>\n",
       "  <tbody>\n",
       "    <tr>\n",
       "      <th>0</th>\n",
       "      <td>e481f51cbdc54678b7cc49136f2d6af7</td>\n",
       "      <td>9ef432eb6251297304e76186b10a928d</td>\n",
       "      <td>delivered</td>\n",
       "      <td>2017-10-02</td>\n",
       "      <td>2017-10-04</td>\n",
       "      <td>2017-10-10</td>\n",
       "      <td>2017-10-18</td>\n",
       "      <td>1.0</td>\n",
       "      <td>87285b34884572647811a353c7ac498a</td>\n",
       "      <td>3504c0cb71d7fa48d967e0e4c94d59d9</td>\n",
       "      <td>...</td>\n",
       "      <td>29.99</td>\n",
       "      <td>8.72</td>\n",
       "      <td>7c396fd4830fd04220f754e42b4e5bff</td>\n",
       "      <td>sao paulo</td>\n",
       "      <td>SP</td>\n",
       "      <td>2</td>\n",
       "      <td>10</td>\n",
       "      <td>2017</td>\n",
       "      <td>2017-10</td>\n",
       "      <td>casa</td>\n",
       "    </tr>\n",
       "    <tr>\n",
       "      <th>1</th>\n",
       "      <td>53cdb2fc8bc7dce0b6741e2150273451</td>\n",
       "      <td>b0830fb4747a6c6d20dea0b8c802d7ef</td>\n",
       "      <td>delivered</td>\n",
       "      <td>2018-07-24</td>\n",
       "      <td>2018-07-26</td>\n",
       "      <td>2018-08-07</td>\n",
       "      <td>2018-08-13</td>\n",
       "      <td>1.0</td>\n",
       "      <td>595fac2a385ac33a80bd5114aec74eb8</td>\n",
       "      <td>289cdb325fb7e7f891c38608bf9e0962</td>\n",
       "      <td>...</td>\n",
       "      <td>118.70</td>\n",
       "      <td>22.76</td>\n",
       "      <td>af07308b275d755c9edb36a90c618231</td>\n",
       "      <td>barreiras</td>\n",
       "      <td>BA</td>\n",
       "      <td>24</td>\n",
       "      <td>7</td>\n",
       "      <td>2018</td>\n",
       "      <td>2018-07</td>\n",
       "      <td>beleza</td>\n",
       "    </tr>\n",
       "    <tr>\n",
       "      <th>2</th>\n",
       "      <td>47770eb9100c2d0c44946d9cf07ec65d</td>\n",
       "      <td>41ce2a54c0b03bf3443c3d931a367089</td>\n",
       "      <td>delivered</td>\n",
       "      <td>2018-08-08</td>\n",
       "      <td>2018-08-08</td>\n",
       "      <td>2018-08-17</td>\n",
       "      <td>2018-09-04</td>\n",
       "      <td>1.0</td>\n",
       "      <td>aa4383b373c6aca5d8797843e5594415</td>\n",
       "      <td>4869f7a5dfa277a7dca6462dcf3b52b2</td>\n",
       "      <td>...</td>\n",
       "      <td>159.90</td>\n",
       "      <td>19.22</td>\n",
       "      <td>3a653a41f6f9fc3d2a113cf8398680e8</td>\n",
       "      <td>vianopolis</td>\n",
       "      <td>GO</td>\n",
       "      <td>8</td>\n",
       "      <td>8</td>\n",
       "      <td>2018</td>\n",
       "      <td>2018-08</td>\n",
       "      <td>carro</td>\n",
       "    </tr>\n",
       "  </tbody>\n",
       "</table>\n",
       "<p>3 rows × 21 columns</p>\n",
       "</div>"
      ],
      "text/plain": [
       "                           order_id                       customer_id  \\\n",
       "0  e481f51cbdc54678b7cc49136f2d6af7  9ef432eb6251297304e76186b10a928d   \n",
       "1  53cdb2fc8bc7dce0b6741e2150273451  b0830fb4747a6c6d20dea0b8c802d7ef   \n",
       "2  47770eb9100c2d0c44946d9cf07ec65d  41ce2a54c0b03bf3443c3d931a367089   \n",
       "\n",
       "  order_status order_purchase_timestamp order_delivered_carrier_date  \\\n",
       "0    delivered               2017-10-02                   2017-10-04   \n",
       "1    delivered               2018-07-24                   2018-07-26   \n",
       "2    delivered               2018-08-08                   2018-08-08   \n",
       "\n",
       "  order_delivered_customer_date order_estimated_delivery_date  order_item_id  \\\n",
       "0                    2017-10-10                    2017-10-18            1.0   \n",
       "1                    2018-08-07                    2018-08-13            1.0   \n",
       "2                    2018-08-17                    2018-09-04            1.0   \n",
       "\n",
       "                         product_id                         seller_id  ...  \\\n",
       "0  87285b34884572647811a353c7ac498a  3504c0cb71d7fa48d967e0e4c94d59d9  ...   \n",
       "1  595fac2a385ac33a80bd5114aec74eb8  289cdb325fb7e7f891c38608bf9e0962  ...   \n",
       "2  aa4383b373c6aca5d8797843e5594415  4869f7a5dfa277a7dca6462dcf3b52b2  ...   \n",
       "\n",
       "    price  freight_value                customer_unique_id customer_city  \\\n",
       "0   29.99           8.72  7c396fd4830fd04220f754e42b4e5bff     sao paulo   \n",
       "1  118.70          22.76  af07308b275d755c9edb36a90c618231     barreiras   \n",
       "2  159.90          19.22  3a653a41f6f9fc3d2a113cf8398680e8    vianopolis   \n",
       "\n",
       "  customer_state dia_compra  mes_compra  ano_compra  ano_mes   grupo  \n",
       "0             SP          2          10        2017  2017-10    casa  \n",
       "1             BA         24           7        2018  2018-07  beleza  \n",
       "2             GO          8           8        2018  2018-08   carro  \n",
       "\n",
       "[3 rows x 21 columns]"
      ]
     },
     "execution_count": 21,
     "metadata": {},
     "output_type": "execute_result"
    }
   ],
   "source": [
    "# Qual vai ser a venda valor nos próximos dias?\n",
    "vendas.head(3)"
   ]
  },
  {
   "cell_type": "code",
   "execution_count": 22,
   "id": "a79e4f7f",
   "metadata": {},
   "outputs": [
    {
     "data": {
      "image/png": "[encoded data removed]",
      "text/plain": [
       "<Figure size 432x288 with 1 Axes>"
      ]
     },
     "metadata": {
      "needs_background": "light"
     },
     "output_type": "display_data"
    }
   ],
   "source": [
    "# Visualizando a venda pelo tempo\n",
    "vendas.groupby('order_purchase_timestamp')['price'].sum().plot();"
   ]
  },
  {
   "cell_type": "code",
   "execution_count": 23,
   "id": "ded369b6",
   "metadata": {},
   "outputs": [],
   "source": [
    "# Podemos criar uma nova variável para a venda por dia\n",
    "vendas_vlr = vendas.groupby('order_purchase_timestamp')['price'].sum()"
   ]
  },
  {
   "cell_type": "code",
   "execution_count": 24,
   "id": "3ab10c2f",
   "metadata": {},
   "outputs": [
    {
     "data": {
      "image/png": "[encoded data removed]",
      "text/plain": [
       "<Figure size 864x432 with 1 Axes>"
      ]
     },
     "metadata": {
      "needs_background": "light"
     },
     "output_type": "display_data"
    }
   ],
   "source": [
    "# E então traçar o gráfico dessa variável\n",
    "fig, ax = plt.subplots(figsize=(12,6))\n",
    "\n",
    "x = vendas_vlr.index\n",
    "y = vendas_vlr.values\n",
    "\n",
    "ax.plot(x, y, linewidth=2.0)\n",
    "\n",
    "plt.show()"
   ]
  },
  {
   "cell_type": "code",
   "execution_count": 25,
   "id": "92542202",
   "metadata": {},
   "outputs": [
    {
     "data": {
      "text/plain": [
       "Timestamp('2018-08-20 00:00:00')"
      ]
     },
     "execution_count": 25,
     "metadata": {},
     "output_type": "execute_result"
    }
   ],
   "source": [
    "# Verificar a data da última informação na tabela\n",
    "vendas_vlr.index[-1]"
   ]
  },
  {
   "cell_type": "code",
   "execution_count": 26,
   "id": "8303750d",
   "metadata": {},
   "outputs": [
    {
     "data": {
      "image/png": "[encoded data removed]",
      "text/plain": [
       "<Figure size 864x432 with 1 Axes>"
      ]
     },
     "metadata": {
      "needs_background": "light"
     },
     "output_type": "display_data"
    }
   ],
   "source": [
    "# Eu posso traçar uma reta qualquer para estimar a venda\n",
    "fig, ax = plt.subplots(figsize=(12,6))\n",
    "\n",
    "x = vendas_vlr.index\n",
    "y = vendas_vlr.values\n",
    "\n",
    "ax.plot(x, y, linewidth=2.0)\n",
    "\n",
    "x_reta = [vendas_vlr.index[0], vendas_vlr.index[-1]]\n",
    "y_reta = [5000, 35000]\n",
    "\n",
    "ax.plot(x_reta, y_reta, '--r')\n",
    "\n",
    "plt.show()"
   ]
  },
  {
   "cell_type": "code",
   "execution_count": 27,
   "id": "ac660578",
   "metadata": {},
   "outputs": [
    {
     "data": {
      "text/html": [
       "<div>\n",
       "<style scoped>\n",
       "    .dataframe tbody tr th:only-of-type {\n",
       "        vertical-align: middle;\n",
       "    }\n",
       "\n",
       "    .dataframe tbody tr th {\n",
       "        vertical-align: top;\n",
       "    }\n",
       "\n",
       "    .dataframe thead th {\n",
       "        text-align: right;\n",
       "    }\n",
       "</style>\n",
       "<table border=\"1\" class=\"dataframe\">\n",
       "  <thead>\n",
       "    <tr style=\"text-align: right;\">\n",
       "      <th></th>\n",
       "      <th>order_purchase_timestamp</th>\n",
       "      <th>price</th>\n",
       "    </tr>\n",
       "  </thead>\n",
       "  <tbody>\n",
       "    <tr>\n",
       "      <th>0</th>\n",
       "      <td>2017-01-06</td>\n",
       "      <td>916.38</td>\n",
       "    </tr>\n",
       "    <tr>\n",
       "      <th>1</th>\n",
       "      <td>2017-01-07</td>\n",
       "      <td>1351.90</td>\n",
       "    </tr>\n",
       "    <tr>\n",
       "      <th>2</th>\n",
       "      <td>2017-01-08</td>\n",
       "      <td>709.58</td>\n",
       "    </tr>\n",
       "    <tr>\n",
       "      <th>3</th>\n",
       "      <td>2017-01-09</td>\n",
       "      <td>673.79</td>\n",
       "    </tr>\n",
       "    <tr>\n",
       "      <th>4</th>\n",
       "      <td>2017-01-10</td>\n",
       "      <td>1434.87</td>\n",
       "    </tr>\n",
       "    <tr>\n",
       "      <th>...</th>\n",
       "      <td>...</td>\n",
       "      <td>...</td>\n",
       "    </tr>\n",
       "    <tr>\n",
       "      <th>585</th>\n",
       "      <td>2018-08-16</td>\n",
       "      <td>35166.77</td>\n",
       "    </tr>\n",
       "    <tr>\n",
       "      <th>586</th>\n",
       "      <td>2018-08-17</td>\n",
       "      <td>31683.18</td>\n",
       "    </tr>\n",
       "    <tr>\n",
       "      <th>587</th>\n",
       "      <td>2018-08-18</td>\n",
       "      <td>24340.95</td>\n",
       "    </tr>\n",
       "    <tr>\n",
       "      <th>588</th>\n",
       "      <td>2018-08-19</td>\n",
       "      <td>25487.39</td>\n",
       "    </tr>\n",
       "    <tr>\n",
       "      <th>589</th>\n",
       "      <td>2018-08-20</td>\n",
       "      <td>34479.50</td>\n",
       "    </tr>\n",
       "  </tbody>\n",
       "</table>\n",
       "<p>590 rows × 2 columns</p>\n",
       "</div>"
      ],
      "text/plain": [
       "    order_purchase_timestamp     price\n",
       "0                 2017-01-06    916.38\n",
       "1                 2017-01-07   1351.90\n",
       "2                 2017-01-08    709.58\n",
       "3                 2017-01-09    673.79\n",
       "4                 2017-01-10   1434.87\n",
       "..                       ...       ...\n",
       "585               2018-08-16  35166.77\n",
       "586               2018-08-17  31683.18\n",
       "587               2018-08-18  24340.95\n",
       "588               2018-08-19  25487.39\n",
       "589               2018-08-20  34479.50\n",
       "\n",
       "[590 rows x 2 columns]"
      ]
     },
     "execution_count": 27,
     "metadata": {},
     "output_type": "execute_result"
    }
   ],
   "source": [
    "# Ajustando a vendas_vlr como um Dataframe\n",
    "vendas_vlr = vendas_vlr.reset_index()\n",
    "vendas_vlr"
   ]
  },
  {
   "cell_type": "code",
   "execution_count": 28,
   "id": "cf648db8",
   "metadata": {},
   "outputs": [],
   "source": [
    "# Antes de usar o Scikit-Learn, vamos tratar a data para conseguir colocar no modelo"
   ]
  },
  {
   "cell_type": "code",
   "execution_count": 29,
   "id": "71048132",
   "metadata": {},
   "outputs": [
    {
     "data": {
      "text/html": [
       "<div>\n",
       "<style scoped>\n",
       "    .dataframe tbody tr th:only-of-type {\n",
       "        vertical-align: middle;\n",
       "    }\n",
       "\n",
       "    .dataframe tbody tr th {\n",
       "        vertical-align: top;\n",
       "    }\n",
       "\n",
       "    .dataframe thead th {\n",
       "        text-align: right;\n",
       "    }\n",
       "</style>\n",
       "<table border=\"1\" class=\"dataframe\">\n",
       "  <thead>\n",
       "    <tr style=\"text-align: right;\">\n",
       "      <th></th>\n",
       "      <th>order_purchase_timestamp</th>\n",
       "      <th>price</th>\n",
       "    </tr>\n",
       "  </thead>\n",
       "  <tbody>\n",
       "    <tr>\n",
       "      <th>587</th>\n",
       "      <td>2018-08-18</td>\n",
       "      <td>24340.95</td>\n",
       "    </tr>\n",
       "    <tr>\n",
       "      <th>588</th>\n",
       "      <td>2018-08-19</td>\n",
       "      <td>25487.39</td>\n",
       "    </tr>\n",
       "    <tr>\n",
       "      <th>589</th>\n",
       "      <td>2018-08-20</td>\n",
       "      <td>34479.50</td>\n",
       "    </tr>\n",
       "  </tbody>\n",
       "</table>\n",
       "</div>"
      ],
      "text/plain": [
       "    order_purchase_timestamp     price\n",
       "587               2018-08-18  24340.95\n",
       "588               2018-08-19  25487.39\n",
       "589               2018-08-20  34479.50"
      ]
     },
     "execution_count": 29,
     "metadata": {},
     "output_type": "execute_result"
    }
   ],
   "source": [
    "vendas_vlr.tail(3)"
   ]
  },
  {
   "cell_type": "code",
   "execution_count": 30,
   "id": "286dc7fe",
   "metadata": {},
   "outputs": [
    {
     "data": {
      "text/html": [
       "<div>\n",
       "<style scoped>\n",
       "    .dataframe tbody tr th:only-of-type {\n",
       "        vertical-align: middle;\n",
       "    }\n",
       "\n",
       "    .dataframe tbody tr th {\n",
       "        vertical-align: top;\n",
       "    }\n",
       "\n",
       "    .dataframe thead th {\n",
       "        text-align: right;\n",
       "    }\n",
       "</style>\n",
       "<table border=\"1\" class=\"dataframe\">\n",
       "  <thead>\n",
       "    <tr style=\"text-align: right;\">\n",
       "      <th></th>\n",
       "      <th>order_purchase_timestamp</th>\n",
       "      <th>price</th>\n",
       "      <th>ajuste_data</th>\n",
       "    </tr>\n",
       "  </thead>\n",
       "  <tbody>\n",
       "    <tr>\n",
       "      <th>585</th>\n",
       "      <td>2018-08-16</td>\n",
       "      <td>35166.77</td>\n",
       "      <td>587</td>\n",
       "    </tr>\n",
       "    <tr>\n",
       "      <th>586</th>\n",
       "      <td>2018-08-17</td>\n",
       "      <td>31683.18</td>\n",
       "      <td>588</td>\n",
       "    </tr>\n",
       "    <tr>\n",
       "      <th>587</th>\n",
       "      <td>2018-08-18</td>\n",
       "      <td>24340.95</td>\n",
       "      <td>589</td>\n",
       "    </tr>\n",
       "    <tr>\n",
       "      <th>588</th>\n",
       "      <td>2018-08-19</td>\n",
       "      <td>25487.39</td>\n",
       "      <td>590</td>\n",
       "    </tr>\n",
       "    <tr>\n",
       "      <th>589</th>\n",
       "      <td>2018-08-20</td>\n",
       "      <td>34479.50</td>\n",
       "      <td>591</td>\n",
       "    </tr>\n",
       "  </tbody>\n",
       "</table>\n",
       "</div>"
      ],
      "text/plain": [
       "    order_purchase_timestamp     price  ajuste_data\n",
       "585               2018-08-16  35166.77          587\n",
       "586               2018-08-17  31683.18          588\n",
       "587               2018-08-18  24340.95          589\n",
       "588               2018-08-19  25487.39          590\n",
       "589               2018-08-20  34479.50          591"
      ]
     },
     "execution_count": 30,
     "metadata": {},
     "output_type": "execute_result"
    }
   ],
   "source": [
    "# Fazendo a diferença entre o dia atual e o menor dia\n",
    "vendas_vlr['ajuste_data'] = (vendas_vlr.order_purchase_timestamp - vendas_vlr.order_purchase_timestamp.min()).dt.days\n",
    "vendas_vlr.tail()"
   ]
  },
  {
   "cell_type": "code",
   "execution_count": 31,
   "id": "6af50fd8",
   "metadata": {},
   "outputs": [],
   "source": [
    "# Colocando esses valores em uma escala de 0 a 1\n",
    "vendas_vlr['ajuste_data'] = vendas_vlr['ajuste_data']/vendas_vlr['ajuste_data'].max()"
   ]
  },
  {
   "cell_type": "code",
   "execution_count": 32,
   "id": "c7158ea0",
   "metadata": {},
   "outputs": [],
   "source": [
    "# Separando em X e y nossos dados\n",
    "X = vendas_vlr.ajuste_data.values.reshape(-1,1)\n",
    "y = vendas_vlr.price"
   ]
  },
  {
   "cell_type": "code",
   "execution_count": 33,
   "id": "9aeaf0a6",
   "metadata": {},
   "outputs": [],
   "source": [
    "# Colocando nossos dados no modelo de regressão linear\n",
    "reg = LinearRegression().fit(X, y)"
   ]
  },
  {
   "cell_type": "code",
   "execution_count": 34,
   "id": "3097aec1",
   "metadata": {},
   "outputs": [
    {
     "data": {
      "text/plain": [
       "0.5709008152888746"
      ]
     },
     "execution_count": 34,
     "metadata": {},
     "output_type": "execute_result"
    }
   ],
   "source": [
    "# Verificando o score\n",
    "reg.score(X, y)"
   ]
  },
  {
   "cell_type": "code",
   "execution_count": 35,
   "id": "e4653738",
   "metadata": {},
   "outputs": [
    {
     "data": {
      "text/plain": [
       "array([28684.73033453])"
      ]
     },
     "execution_count": 35,
     "metadata": {},
     "output_type": "execute_result"
    }
   ],
   "source": [
    "# O coeficiente angular da reta\n",
    "reg.coef_"
   ]
  },
  {
   "cell_type": "code",
   "execution_count": 36,
   "id": "62721cb8",
   "metadata": {},
   "outputs": [
    {
     "data": {
      "text/plain": [
       "7921.539493458125"
      ]
     },
     "execution_count": 36,
     "metadata": {},
     "output_type": "execute_result"
    }
   ],
   "source": [
    "# e o coeficiente linear\n",
    "reg.intercept_"
   ]
  },
  {
   "cell_type": "code",
   "execution_count": 37,
   "id": "95bf9d15",
   "metadata": {},
   "outputs": [
    {
     "data": {
      "text/html": [
       "<div>\n",
       "<style scoped>\n",
       "    .dataframe tbody tr th:only-of-type {\n",
       "        vertical-align: middle;\n",
       "    }\n",
       "\n",
       "    .dataframe tbody tr th {\n",
       "        vertical-align: top;\n",
       "    }\n",
       "\n",
       "    .dataframe thead th {\n",
       "        text-align: right;\n",
       "    }\n",
       "</style>\n",
       "<table border=\"1\" class=\"dataframe\">\n",
       "  <thead>\n",
       "    <tr style=\"text-align: right;\">\n",
       "      <th></th>\n",
       "      <th>order_purchase_timestamp</th>\n",
       "      <th>price</th>\n",
       "      <th>ajuste_data</th>\n",
       "    </tr>\n",
       "  </thead>\n",
       "  <tbody>\n",
       "    <tr>\n",
       "      <th>0</th>\n",
       "      <td>2017-01-06</td>\n",
       "      <td>916.38</td>\n",
       "      <td>0.000000</td>\n",
       "    </tr>\n",
       "    <tr>\n",
       "      <th>1</th>\n",
       "      <td>2017-01-07</td>\n",
       "      <td>1351.90</td>\n",
       "      <td>0.001692</td>\n",
       "    </tr>\n",
       "    <tr>\n",
       "      <th>2</th>\n",
       "      <td>2017-01-08</td>\n",
       "      <td>709.58</td>\n",
       "      <td>0.003384</td>\n",
       "    </tr>\n",
       "  </tbody>\n",
       "</table>\n",
       "</div>"
      ],
      "text/plain": [
       "  order_purchase_timestamp    price  ajuste_data\n",
       "0               2017-01-06   916.38     0.000000\n",
       "1               2017-01-07  1351.90     0.001692\n",
       "2               2017-01-08   709.58     0.003384"
      ]
     },
     "execution_count": 37,
     "metadata": {},
     "output_type": "execute_result"
    }
   ],
   "source": [
    "vendas_vlr.head(3)"
   ]
  },
  {
   "cell_type": "code",
   "execution_count": 38,
   "id": "953412de",
   "metadata": {},
   "outputs": [
    {
     "data": {
      "image/png": "[encoded data removed]",
      "text/plain": [
       "<Figure size 864x432 with 1 Axes>"
      ]
     },
     "metadata": {
      "needs_background": "light"
     },
     "output_type": "display_data"
    }
   ],
   "source": [
    "# Podemos adicionar essa reta no gráfico que criamos\n",
    "fig, ax = plt.subplots(figsize=(12,6))\n",
    "\n",
    "x = vendas_vlr.ajuste_data\n",
    "y = vendas_vlr.price\n",
    "\n",
    "ax.plot(x, y, linewidth=2.0)\n",
    "\n",
    "x_reta = vendas_vlr.ajuste_data\n",
    "y_reta = x_reta*reg.coef_[0] + reg.intercept_\n",
    "\n",
    "ax.plot(x_reta, y_reta, '--r')\n",
    "\n",
    "plt.show()"
   ]
  },
  {
   "cell_type": "code",
   "execution_count": 39,
   "id": "85975ecc",
   "metadata": {},
   "outputs": [
    {
     "data": {
      "text/html": [
       "<div>\n",
       "<style scoped>\n",
       "    .dataframe tbody tr th:only-of-type {\n",
       "        vertical-align: middle;\n",
       "    }\n",
       "\n",
       "    .dataframe tbody tr th {\n",
       "        vertical-align: top;\n",
       "    }\n",
       "\n",
       "    .dataframe thead th {\n",
       "        text-align: right;\n",
       "    }\n",
       "</style>\n",
       "<table border=\"1\" class=\"dataframe\">\n",
       "  <thead>\n",
       "    <tr style=\"text-align: right;\">\n",
       "      <th></th>\n",
       "      <th>order_id</th>\n",
       "      <th>customer_id</th>\n",
       "      <th>order_status</th>\n",
       "      <th>order_purchase_timestamp</th>\n",
       "      <th>order_delivered_carrier_date</th>\n",
       "      <th>order_delivered_customer_date</th>\n",
       "      <th>order_estimated_delivery_date</th>\n",
       "      <th>order_item_id</th>\n",
       "      <th>product_id</th>\n",
       "      <th>seller_id</th>\n",
       "      <th>...</th>\n",
       "      <th>price</th>\n",
       "      <th>freight_value</th>\n",
       "      <th>customer_unique_id</th>\n",
       "      <th>customer_city</th>\n",
       "      <th>customer_state</th>\n",
       "      <th>dia_compra</th>\n",
       "      <th>mes_compra</th>\n",
       "      <th>ano_compra</th>\n",
       "      <th>ano_mes</th>\n",
       "      <th>grupo</th>\n",
       "    </tr>\n",
       "  </thead>\n",
       "  <tbody>\n",
       "    <tr>\n",
       "      <th>0</th>\n",
       "      <td>e481f51cbdc54678b7cc49136f2d6af7</td>\n",
       "      <td>9ef432eb6251297304e76186b10a928d</td>\n",
       "      <td>delivered</td>\n",
       "      <td>2017-10-02</td>\n",
       "      <td>2017-10-04</td>\n",
       "      <td>2017-10-10</td>\n",
       "      <td>2017-10-18</td>\n",
       "      <td>1.0</td>\n",
       "      <td>87285b34884572647811a353c7ac498a</td>\n",
       "      <td>3504c0cb71d7fa48d967e0e4c94d59d9</td>\n",
       "      <td>...</td>\n",
       "      <td>29.99</td>\n",
       "      <td>8.72</td>\n",
       "      <td>7c396fd4830fd04220f754e42b4e5bff</td>\n",
       "      <td>sao paulo</td>\n",
       "      <td>SP</td>\n",
       "      <td>2</td>\n",
       "      <td>10</td>\n",
       "      <td>2017</td>\n",
       "      <td>2017-10</td>\n",
       "      <td>casa</td>\n",
       "    </tr>\n",
       "    <tr>\n",
       "      <th>1</th>\n",
       "      <td>53cdb2fc8bc7dce0b6741e2150273451</td>\n",
       "      <td>b0830fb4747a6c6d20dea0b8c802d7ef</td>\n",
       "      <td>delivered</td>\n",
       "      <td>2018-07-24</td>\n",
       "      <td>2018-07-26</td>\n",
       "      <td>2018-08-07</td>\n",
       "      <td>2018-08-13</td>\n",
       "      <td>1.0</td>\n",
       "      <td>595fac2a385ac33a80bd5114aec74eb8</td>\n",
       "      <td>289cdb325fb7e7f891c38608bf9e0962</td>\n",
       "      <td>...</td>\n",
       "      <td>118.70</td>\n",
       "      <td>22.76</td>\n",
       "      <td>af07308b275d755c9edb36a90c618231</td>\n",
       "      <td>barreiras</td>\n",
       "      <td>BA</td>\n",
       "      <td>24</td>\n",
       "      <td>7</td>\n",
       "      <td>2018</td>\n",
       "      <td>2018-07</td>\n",
       "      <td>beleza</td>\n",
       "    </tr>\n",
       "    <tr>\n",
       "      <th>2</th>\n",
       "      <td>47770eb9100c2d0c44946d9cf07ec65d</td>\n",
       "      <td>41ce2a54c0b03bf3443c3d931a367089</td>\n",
       "      <td>delivered</td>\n",
       "      <td>2018-08-08</td>\n",
       "      <td>2018-08-08</td>\n",
       "      <td>2018-08-17</td>\n",
       "      <td>2018-09-04</td>\n",
       "      <td>1.0</td>\n",
       "      <td>aa4383b373c6aca5d8797843e5594415</td>\n",
       "      <td>4869f7a5dfa277a7dca6462dcf3b52b2</td>\n",
       "      <td>...</td>\n",
       "      <td>159.90</td>\n",
       "      <td>19.22</td>\n",
       "      <td>3a653a41f6f9fc3d2a113cf8398680e8</td>\n",
       "      <td>vianopolis</td>\n",
       "      <td>GO</td>\n",
       "      <td>8</td>\n",
       "      <td>8</td>\n",
       "      <td>2018</td>\n",
       "      <td>2018-08</td>\n",
       "      <td>carro</td>\n",
       "    </tr>\n",
       "  </tbody>\n",
       "</table>\n",
       "<p>3 rows × 21 columns</p>\n",
       "</div>"
      ],
      "text/plain": [
       "                           order_id                       customer_id  \\\n",
       "0  e481f51cbdc54678b7cc49136f2d6af7  9ef432eb6251297304e76186b10a928d   \n",
       "1  53cdb2fc8bc7dce0b6741e2150273451  b0830fb4747a6c6d20dea0b8c802d7ef   \n",
       "2  47770eb9100c2d0c44946d9cf07ec65d  41ce2a54c0b03bf3443c3d931a367089   \n",
       "\n",
       "  order_status order_purchase_timestamp order_delivered_carrier_date  \\\n",
       "0    delivered               2017-10-02                   2017-10-04   \n",
       "1    delivered               2018-07-24                   2018-07-26   \n",
       "2    delivered               2018-08-08                   2018-08-08   \n",
       "\n",
       "  order_delivered_customer_date order_estimated_delivery_date  order_item_id  \\\n",
       "0                    2017-10-10                    2017-10-18            1.0   \n",
       "1                    2018-08-07                    2018-08-13            1.0   \n",
       "2                    2018-08-17                    2018-09-04            1.0   \n",
       "\n",
       "                         product_id                         seller_id  ...  \\\n",
       "0  87285b34884572647811a353c7ac498a  3504c0cb71d7fa48d967e0e4c94d59d9  ...   \n",
       "1  595fac2a385ac33a80bd5114aec74eb8  289cdb325fb7e7f891c38608bf9e0962  ...   \n",
       "2  aa4383b373c6aca5d8797843e5594415  4869f7a5dfa277a7dca6462dcf3b52b2  ...   \n",
       "\n",
       "    price  freight_value                customer_unique_id customer_city  \\\n",
       "0   29.99           8.72  7c396fd4830fd04220f754e42b4e5bff     sao paulo   \n",
       "1  118.70          22.76  af07308b275d755c9edb36a90c618231     barreiras   \n",
       "2  159.90          19.22  3a653a41f6f9fc3d2a113cf8398680e8    vianopolis   \n",
       "\n",
       "  customer_state dia_compra  mes_compra  ano_compra  ano_mes   grupo  \n",
       "0             SP          2          10        2017  2017-10    casa  \n",
       "1             BA         24           7        2018  2018-07  beleza  \n",
       "2             GO          8           8        2018  2018-08   carro  \n",
       "\n",
       "[3 rows x 21 columns]"
      ]
     },
     "execution_count": 39,
     "metadata": {},
     "output_type": "execute_result"
    }
   ],
   "source": [
    "# Na verdade eu quero saber  qual a venda de determinados grupo, mais especifcamente\n",
    "# Visualizando novamente a base de vendas\n",
    "vendas.head(3)"
   ]
  },
  {
   "cell_type": "code",
   "execution_count": 40,
   "id": "259fa75e",
   "metadata": {},
   "outputs": [],
   "source": [
    "# Agupando a venda por grupo\n",
    "venda_grupos = vendas.groupby(['order_purchase_timestamp', 'grupo'])['price'].sum().reset_index()"
   ]
  },
  {
   "cell_type": "code",
   "execution_count": 41,
   "id": "6ced4dd4",
   "metadata": {},
   "outputs": [
    {
     "data": {
      "image/png": "[encoded data removed]",
      "text/plain": [
       "<Figure size 432x288 with 1 Axes>"
      ]
     },
     "metadata": {
      "needs_background": "light"
     },
     "output_type": "display_data"
    }
   ],
   "source": [
    "# Visualizando o plot de alguns grupos\n",
    "venda_grupos.loc[venda_grupos.grupo == 'carro', 'price'].plot();"
   ]
  },
  {
   "cell_type": "code",
   "execution_count": 42,
   "id": "57cadcdc",
   "metadata": {},
   "outputs": [
    {
     "data": {
      "text/html": [
       "<div>\n",
       "<style scoped>\n",
       "    .dataframe tbody tr th:only-of-type {\n",
       "        vertical-align: middle;\n",
       "    }\n",
       "\n",
       "    .dataframe tbody tr th {\n",
       "        vertical-align: top;\n",
       "    }\n",
       "\n",
       "    .dataframe thead th {\n",
       "        text-align: right;\n",
       "    }\n",
       "</style>\n",
       "<table border=\"1\" class=\"dataframe\">\n",
       "  <thead>\n",
       "    <tr style=\"text-align: right;\">\n",
       "      <th></th>\n",
       "      <th>order_purchase_timestamp</th>\n",
       "      <th>grupo</th>\n",
       "      <th>price</th>\n",
       "    </tr>\n",
       "  </thead>\n",
       "  <tbody>\n",
       "    <tr>\n",
       "      <th>6787</th>\n",
       "      <td>2018-08-20</td>\n",
       "      <td>games</td>\n",
       "      <td>2069.99</td>\n",
       "    </tr>\n",
       "    <tr>\n",
       "      <th>6788</th>\n",
       "      <td>2018-08-20</td>\n",
       "      <td>outros</td>\n",
       "      <td>4009.16</td>\n",
       "    </tr>\n",
       "    <tr>\n",
       "      <th>6789</th>\n",
       "      <td>2018-08-20</td>\n",
       "      <td>presentes</td>\n",
       "      <td>1939.90</td>\n",
       "    </tr>\n",
       "    <tr>\n",
       "      <th>6790</th>\n",
       "      <td>2018-08-20</td>\n",
       "      <td>produtos_diversos</td>\n",
       "      <td>1610.42</td>\n",
       "    </tr>\n",
       "    <tr>\n",
       "      <th>6791</th>\n",
       "      <td>2018-08-20</td>\n",
       "      <td>telefonia_audio_video</td>\n",
       "      <td>1101.98</td>\n",
       "    </tr>\n",
       "  </tbody>\n",
       "</table>\n",
       "</div>"
      ],
      "text/plain": [
       "     order_purchase_timestamp                  grupo    price\n",
       "6787               2018-08-20                  games  2069.99\n",
       "6788               2018-08-20                 outros  4009.16\n",
       "6789               2018-08-20              presentes  1939.90\n",
       "6790               2018-08-20      produtos_diversos  1610.42\n",
       "6791               2018-08-20  telefonia_audio_video  1101.98"
      ]
     },
     "execution_count": 42,
     "metadata": {},
     "output_type": "execute_result"
    }
   ],
   "source": [
    "# Agrupando a venda por data e grupo\n",
    "venda_grupos = vendas.groupby(['order_purchase_timestamp', 'grupo'])['price'].sum().reset_index()\n",
    "venda_grupos.tail()"
   ]
  },
  {
   "cell_type": "code",
   "execution_count": 43,
   "id": "67d3a4d2",
   "metadata": {},
   "outputs": [
    {
     "data": {
      "text/plain": [
       "Timestamp('2018-08-20 00:00:00')"
      ]
     },
     "execution_count": 43,
     "metadata": {},
     "output_type": "execute_result"
    }
   ],
   "source": [
    "# Verificando a data máxima\n",
    "venda_grupos.order_purchase_timestamp.max()"
   ]
  },
  {
   "cell_type": "code",
   "execution_count": 44,
   "id": "4fb14d31",
   "metadata": {},
   "outputs": [
    {
     "data": {
      "text/html": [
       "<div>\n",
       "<style scoped>\n",
       "    .dataframe tbody tr th:only-of-type {\n",
       "        vertical-align: middle;\n",
       "    }\n",
       "\n",
       "    .dataframe tbody tr th {\n",
       "        vertical-align: top;\n",
       "    }\n",
       "\n",
       "    .dataframe thead th {\n",
       "        text-align: right;\n",
       "    }\n",
       "</style>\n",
       "<table border=\"1\" class=\"dataframe\">\n",
       "  <thead>\n",
       "    <tr style=\"text-align: right;\">\n",
       "      <th></th>\n",
       "      <th>order_purchase_timestamp</th>\n",
       "      <th>grupo</th>\n",
       "      <th>price</th>\n",
       "    </tr>\n",
       "  </thead>\n",
       "  <tbody>\n",
       "    <tr>\n",
       "      <th>6782</th>\n",
       "      <td>2018-08-20</td>\n",
       "      <td>casa</td>\n",
       "      <td>7810.46</td>\n",
       "    </tr>\n",
       "    <tr>\n",
       "      <th>6783</th>\n",
       "      <td>2018-08-20</td>\n",
       "      <td>construção</td>\n",
       "      <td>2727.83</td>\n",
       "    </tr>\n",
       "    <tr>\n",
       "      <th>6784</th>\n",
       "      <td>2018-08-20</td>\n",
       "      <td>crianças</td>\n",
       "      <td>1838.89</td>\n",
       "    </tr>\n",
       "    <tr>\n",
       "      <th>6785</th>\n",
       "      <td>2018-08-20</td>\n",
       "      <td>eletro_eletronicos</td>\n",
       "      <td>2621.33</td>\n",
       "    </tr>\n",
       "    <tr>\n",
       "      <th>6786</th>\n",
       "      <td>2018-08-20</td>\n",
       "      <td>esporte</td>\n",
       "      <td>939.51</td>\n",
       "    </tr>\n",
       "    <tr>\n",
       "      <th>6787</th>\n",
       "      <td>2018-08-20</td>\n",
       "      <td>games</td>\n",
       "      <td>2069.99</td>\n",
       "    </tr>\n",
       "    <tr>\n",
       "      <th>6788</th>\n",
       "      <td>2018-08-20</td>\n",
       "      <td>outros</td>\n",
       "      <td>4009.16</td>\n",
       "    </tr>\n",
       "    <tr>\n",
       "      <th>6789</th>\n",
       "      <td>2018-08-20</td>\n",
       "      <td>presentes</td>\n",
       "      <td>1939.90</td>\n",
       "    </tr>\n",
       "    <tr>\n",
       "      <th>6790</th>\n",
       "      <td>2018-08-20</td>\n",
       "      <td>produtos_diversos</td>\n",
       "      <td>1610.42</td>\n",
       "    </tr>\n",
       "    <tr>\n",
       "      <th>6791</th>\n",
       "      <td>2018-08-20</td>\n",
       "      <td>telefonia_audio_video</td>\n",
       "      <td>1101.98</td>\n",
       "    </tr>\n",
       "  </tbody>\n",
       "</table>\n",
       "</div>"
      ],
      "text/plain": [
       "     order_purchase_timestamp                  grupo    price\n",
       "6782               2018-08-20                   casa  7810.46\n",
       "6783               2018-08-20             construção  2727.83\n",
       "6784               2018-08-20               crianças  1838.89\n",
       "6785               2018-08-20     eletro_eletronicos  2621.33\n",
       "6786               2018-08-20                esporte   939.51\n",
       "6787               2018-08-20                  games  2069.99\n",
       "6788               2018-08-20                 outros  4009.16\n",
       "6789               2018-08-20              presentes  1939.90\n",
       "6790               2018-08-20      produtos_diversos  1610.42\n",
       "6791               2018-08-20  telefonia_audio_video  1101.98"
      ]
     },
     "execution_count": 44,
     "metadata": {},
     "output_type": "execute_result"
    }
   ],
   "source": [
    "# E o shape desse DataFrame\n",
    "venda_grupos.shape\n",
    "venda_grupos.tail(10)"
   ]
  },
  {
   "cell_type": "code",
   "execution_count": 45,
   "id": "a600eb0d",
   "metadata": {},
   "outputs": [
    {
     "name": "stdout",
     "output_type": "stream",
     "text": [
      "(4764, 3)\n",
      "(2028, 3)\n",
      "0.29858657243816256\n"
     ]
    }
   ],
   "source": [
    "# Podemos então separar os nossos dados em treino e teste\n",
    "treino = venda_grupos[venda_grupos.order_purchase_timestamp <= dt.datetime(2018, 3, 1)]\n",
    "teste = venda_grupos[venda_grupos.order_purchase_timestamp > dt.datetime(2018, 3, 1)]\n",
    "\n",
    "# Verificando o tamanho da base de treino\n",
    "print(treino.shape)\n",
    "\n",
    "# Verificando o tamanho da base de teste\n",
    "print(teste.shape)\n",
    "\n",
    "# Verificando a proporção de teste da nossa base\n",
    "print(teste.shape[0]/venda_grupos.shape[0])"
   ]
  },
  {
   "cell_type": "code",
   "execution_count": 46,
   "id": "b23e43ed",
   "metadata": {},
   "outputs": [
    {
     "data": {
      "image/png": "[encoded data removed]",
      "text/plain": [
       "<Figure size 864x432 with 1 Axes>"
      ]
     },
     "metadata": {
      "needs_background": "light"
     },
     "output_type": "display_data"
    }
   ],
   "source": [
    "# Podemos então visualizar essa base de treino e de teste\n",
    "fig, ax = plt.subplots(figsize=(12,6))\n",
    "\n",
    "filtro = 'beleza'\n",
    "\n",
    "base_treino = treino[treino.grupo == filtro]\n",
    "base_teste = teste[teste.grupo == filtro]\n",
    "\n",
    "ax.plot(base_treino.order_purchase_timestamp, base_treino.price)\n",
    "ax.plot(base_teste.order_purchase_timestamp, base_teste.price, '--r')\n",
    "\n",
    "plt.show()"
   ]
  },
  {
   "cell_type": "code",
   "execution_count": 47,
   "id": "07e2e569",
   "metadata": {},
   "outputs": [
    {
     "data": {
      "text/html": [
       "<div>\n",
       "<style scoped>\n",
       "    .dataframe tbody tr th:only-of-type {\n",
       "        vertical-align: middle;\n",
       "    }\n",
       "\n",
       "    .dataframe tbody tr th {\n",
       "        vertical-align: top;\n",
       "    }\n",
       "\n",
       "    .dataframe thead th {\n",
       "        text-align: right;\n",
       "    }\n",
       "</style>\n",
       "<table border=\"1\" class=\"dataframe\">\n",
       "  <thead>\n",
       "    <tr style=\"text-align: right;\">\n",
       "      <th></th>\n",
       "      <th>order_purchase_timestamp</th>\n",
       "      <th>grupo</th>\n",
       "      <th>price</th>\n",
       "    </tr>\n",
       "  </thead>\n",
       "  <tbody>\n",
       "    <tr>\n",
       "      <th>4761</th>\n",
       "      <td>2018-03-01</td>\n",
       "      <td>presentes</td>\n",
       "      <td>2540.77</td>\n",
       "    </tr>\n",
       "    <tr>\n",
       "      <th>4762</th>\n",
       "      <td>2018-03-01</td>\n",
       "      <td>produtos_diversos</td>\n",
       "      <td>927.08</td>\n",
       "    </tr>\n",
       "    <tr>\n",
       "      <th>4763</th>\n",
       "      <td>2018-03-01</td>\n",
       "      <td>telefonia_audio_video</td>\n",
       "      <td>649.30</td>\n",
       "    </tr>\n",
       "  </tbody>\n",
       "</table>\n",
       "</div>"
      ],
      "text/plain": [
       "     order_purchase_timestamp                  grupo    price\n",
       "4761               2018-03-01              presentes  2540.77\n",
       "4762               2018-03-01      produtos_diversos   927.08\n",
       "4763               2018-03-01  telefonia_audio_video   649.30"
      ]
     },
     "execution_count": 47,
     "metadata": {},
     "output_type": "execute_result"
    }
   ],
   "source": [
    "# Visualizando a base de treino\n",
    "treino.tail(3)"
   ]
  },
  {
   "cell_type": "code",
   "execution_count": 48,
   "id": "5b7bb700",
   "metadata": {},
   "outputs": [
    {
     "data": {
      "text/html": [
       "<div>\n",
       "<style scoped>\n",
       "    .dataframe tbody tr th:only-of-type {\n",
       "        vertical-align: middle;\n",
       "    }\n",
       "\n",
       "    .dataframe tbody tr th {\n",
       "        vertical-align: top;\n",
       "    }\n",
       "\n",
       "    .dataframe thead th {\n",
       "        text-align: right;\n",
       "    }\n",
       "</style>\n",
       "<table border=\"1\" class=\"dataframe\">\n",
       "  <thead>\n",
       "    <tr style=\"text-align: right;\">\n",
       "      <th></th>\n",
       "      <th>order_purchase_timestamp</th>\n",
       "      <th>grupo</th>\n",
       "      <th>price</th>\n",
       "    </tr>\n",
       "  </thead>\n",
       "  <tbody>\n",
       "    <tr>\n",
       "      <th>0</th>\n",
       "      <td>2017-01-06</td>\n",
       "      <td>beleza</td>\n",
       "      <td>636.00</td>\n",
       "    </tr>\n",
       "    <tr>\n",
       "      <th>1</th>\n",
       "      <td>2017-01-06</td>\n",
       "      <td>crianças</td>\n",
       "      <td>159.99</td>\n",
       "    </tr>\n",
       "    <tr>\n",
       "      <th>2</th>\n",
       "      <td>2017-01-06</td>\n",
       "      <td>games</td>\n",
       "      <td>109.90</td>\n",
       "    </tr>\n",
       "    <tr>\n",
       "      <th>3</th>\n",
       "      <td>2017-01-06</td>\n",
       "      <td>telefonia_audio_video</td>\n",
       "      <td>10.49</td>\n",
       "    </tr>\n",
       "    <tr>\n",
       "      <th>4</th>\n",
       "      <td>2017-01-07</td>\n",
       "      <td>beleza</td>\n",
       "      <td>370.00</td>\n",
       "    </tr>\n",
       "  </tbody>\n",
       "</table>\n",
       "</div>"
      ],
      "text/plain": [
       "  order_purchase_timestamp                  grupo   price\n",
       "0               2017-01-06                 beleza  636.00\n",
       "1               2017-01-06               crianças  159.99\n",
       "2               2017-01-06                  games  109.90\n",
       "3               2017-01-06  telefonia_audio_video   10.49\n",
       "4               2017-01-07                 beleza  370.00"
      ]
     },
     "execution_count": 48,
     "metadata": {},
     "output_type": "execute_result"
    }
   ],
   "source": [
    "# Separando X e y\n",
    "X_treino = treino[['order_purchase_timestamp', 'grupo']]\n",
    "y_treino = treino.price\n",
    "treino.head()"
   ]
  },
  {
   "cell_type": "code",
   "execution_count": 49,
   "id": "ebc6902d",
   "metadata": {},
   "outputs": [
    {
     "data": {
      "text/html": [
       "<div>\n",
       "<style scoped>\n",
       "    .dataframe tbody tr th:only-of-type {\n",
       "        vertical-align: middle;\n",
       "    }\n",
       "\n",
       "    .dataframe tbody tr th {\n",
       "        vertical-align: top;\n",
       "    }\n",
       "\n",
       "    .dataframe thead th {\n",
       "        text-align: right;\n",
       "    }\n",
       "</style>\n",
       "<table border=\"1\" class=\"dataframe\">\n",
       "  <thead>\n",
       "    <tr style=\"text-align: right;\">\n",
       "      <th></th>\n",
       "      <th>order_purchase_timestamp</th>\n",
       "      <th>grupo</th>\n",
       "      <th>price</th>\n",
       "      <th>ajuste_data</th>\n",
       "    </tr>\n",
       "  </thead>\n",
       "  <tbody>\n",
       "    <tr>\n",
       "      <th>6787</th>\n",
       "      <td>2018-08-20</td>\n",
       "      <td>games</td>\n",
       "      <td>2069.99</td>\n",
       "      <td>1.0</td>\n",
       "    </tr>\n",
       "    <tr>\n",
       "      <th>6788</th>\n",
       "      <td>2018-08-20</td>\n",
       "      <td>outros</td>\n",
       "      <td>4009.16</td>\n",
       "      <td>1.0</td>\n",
       "    </tr>\n",
       "    <tr>\n",
       "      <th>6789</th>\n",
       "      <td>2018-08-20</td>\n",
       "      <td>presentes</td>\n",
       "      <td>1939.90</td>\n",
       "      <td>1.0</td>\n",
       "    </tr>\n",
       "    <tr>\n",
       "      <th>6790</th>\n",
       "      <td>2018-08-20</td>\n",
       "      <td>produtos_diversos</td>\n",
       "      <td>1610.42</td>\n",
       "      <td>1.0</td>\n",
       "    </tr>\n",
       "    <tr>\n",
       "      <th>6791</th>\n",
       "      <td>2018-08-20</td>\n",
       "      <td>telefonia_audio_video</td>\n",
       "      <td>1101.98</td>\n",
       "      <td>1.0</td>\n",
       "    </tr>\n",
       "  </tbody>\n",
       "</table>\n",
       "</div>"
      ],
      "text/plain": [
       "     order_purchase_timestamp                  grupo    price  ajuste_data\n",
       "6787               2018-08-20                  games  2069.99          1.0\n",
       "6788               2018-08-20                 outros  4009.16          1.0\n",
       "6789               2018-08-20              presentes  1939.90          1.0\n",
       "6790               2018-08-20      produtos_diversos  1610.42          1.0\n",
       "6791               2018-08-20  telefonia_audio_video  1101.98          1.0"
      ]
     },
     "execution_count": 49,
     "metadata": {},
     "output_type": "execute_result"
    }
   ],
   "source": [
    "# Utilizando o mesmo tratamento que fizemos na data, alterar o datetime por valores em dias\n",
    "venda_grupos['ajuste_data'] = (venda_grupos.order_purchase_timestamp - venda_grupos.order_purchase_timestamp.min()).dt.days\n",
    "venda_grupos['ajuste_data'] = venda_grupos['ajuste_data']/venda_grupos['ajuste_data'].max()\n",
    "\n",
    "treino = venda_grupos[venda_grupos.order_purchase_timestamp <= dt.datetime(2018, 3, 1)]\n",
    "teste = venda_grupos[venda_grupos.order_purchase_timestamp > dt.datetime(2018, 3, 1)]\n",
    "venda_grupos.tail()"
   ]
  },
  {
   "cell_type": "code",
   "execution_count": 50,
   "id": "9a99b826",
   "metadata": {},
   "outputs": [
    {
     "data": {
      "text/html": [
       "<div>\n",
       "<style scoped>\n",
       "    .dataframe tbody tr th:only-of-type {\n",
       "        vertical-align: middle;\n",
       "    }\n",
       "\n",
       "    .dataframe tbody tr th {\n",
       "        vertical-align: top;\n",
       "    }\n",
       "\n",
       "    .dataframe thead th {\n",
       "        text-align: right;\n",
       "    }\n",
       "</style>\n",
       "<table border=\"1\" class=\"dataframe\">\n",
       "  <thead>\n",
       "    <tr style=\"text-align: right;\">\n",
       "      <th></th>\n",
       "      <th>ajuste_data</th>\n",
       "      <th>grupo</th>\n",
       "    </tr>\n",
       "  </thead>\n",
       "  <tbody>\n",
       "    <tr>\n",
       "      <th>0</th>\n",
       "      <td>0.000000</td>\n",
       "      <td>beleza</td>\n",
       "    </tr>\n",
       "    <tr>\n",
       "      <th>1</th>\n",
       "      <td>0.000000</td>\n",
       "      <td>crianças</td>\n",
       "    </tr>\n",
       "    <tr>\n",
       "      <th>2</th>\n",
       "      <td>0.000000</td>\n",
       "      <td>games</td>\n",
       "    </tr>\n",
       "    <tr>\n",
       "      <th>3</th>\n",
       "      <td>0.000000</td>\n",
       "      <td>telefonia_audio_video</td>\n",
       "    </tr>\n",
       "    <tr>\n",
       "      <th>4</th>\n",
       "      <td>0.001692</td>\n",
       "      <td>beleza</td>\n",
       "    </tr>\n",
       "  </tbody>\n",
       "</table>\n",
       "</div>"
      ],
      "text/plain": [
       "   ajuste_data                  grupo\n",
       "0     0.000000                 beleza\n",
       "1     0.000000               crianças\n",
       "2     0.000000                  games\n",
       "3     0.000000  telefonia_audio_video\n",
       "4     0.001692                 beleza"
      ]
     },
     "execution_count": 50,
     "metadata": {},
     "output_type": "execute_result"
    }
   ],
   "source": [
    "# Novamente separando X e y\n",
    "X_treino = treino[['ajuste_data', 'grupo']]\n",
    "y_treino = treino.price\n",
    "X_treino.head()"
   ]
  },
  {
   "cell_type": "code",
   "execution_count": 51,
   "id": "57b8b203",
   "metadata": {},
   "outputs": [
    {
     "data": {
      "text/html": [
       "<div>\n",
       "<style scoped>\n",
       "    .dataframe tbody tr th:only-of-type {\n",
       "        vertical-align: middle;\n",
       "    }\n",
       "\n",
       "    .dataframe tbody tr th {\n",
       "        vertical-align: top;\n",
       "    }\n",
       "\n",
       "    .dataframe thead th {\n",
       "        text-align: right;\n",
       "    }\n",
       "</style>\n",
       "<table border=\"1\" class=\"dataframe\">\n",
       "  <thead>\n",
       "    <tr style=\"text-align: right;\">\n",
       "      <th></th>\n",
       "      <th>order_purchase_timestamp</th>\n",
       "      <th>grupo</th>\n",
       "      <th>price</th>\n",
       "      <th>ajuste_data</th>\n",
       "      <th>beleza</th>\n",
       "      <th>carro</th>\n",
       "      <th>casa</th>\n",
       "      <th>construção</th>\n",
       "      <th>crianças</th>\n",
       "      <th>eletro_eletronicos</th>\n",
       "      <th>esporte</th>\n",
       "      <th>games</th>\n",
       "      <th>outros</th>\n",
       "      <th>presentes</th>\n",
       "      <th>produtos_diversos</th>\n",
       "      <th>telefonia_audio_video</th>\n",
       "    </tr>\n",
       "  </thead>\n",
       "  <tbody>\n",
       "    <tr>\n",
       "      <th>0</th>\n",
       "      <td>2017-01-06</td>\n",
       "      <td>beleza</td>\n",
       "      <td>636.00</td>\n",
       "      <td>0.000000</td>\n",
       "      <td>1</td>\n",
       "      <td>0</td>\n",
       "      <td>0</td>\n",
       "      <td>0</td>\n",
       "      <td>0</td>\n",
       "      <td>0</td>\n",
       "      <td>0</td>\n",
       "      <td>0</td>\n",
       "      <td>0</td>\n",
       "      <td>0</td>\n",
       "      <td>0</td>\n",
       "      <td>0</td>\n",
       "    </tr>\n",
       "    <tr>\n",
       "      <th>1</th>\n",
       "      <td>2017-01-06</td>\n",
       "      <td>crianças</td>\n",
       "      <td>159.99</td>\n",
       "      <td>0.000000</td>\n",
       "      <td>0</td>\n",
       "      <td>0</td>\n",
       "      <td>0</td>\n",
       "      <td>0</td>\n",
       "      <td>1</td>\n",
       "      <td>0</td>\n",
       "      <td>0</td>\n",
       "      <td>0</td>\n",
       "      <td>0</td>\n",
       "      <td>0</td>\n",
       "      <td>0</td>\n",
       "      <td>0</td>\n",
       "    </tr>\n",
       "    <tr>\n",
       "      <th>2</th>\n",
       "      <td>2017-01-06</td>\n",
       "      <td>games</td>\n",
       "      <td>109.90</td>\n",
       "      <td>0.000000</td>\n",
       "      <td>0</td>\n",
       "      <td>0</td>\n",
       "      <td>0</td>\n",
       "      <td>0</td>\n",
       "      <td>0</td>\n",
       "      <td>0</td>\n",
       "      <td>0</td>\n",
       "      <td>1</td>\n",
       "      <td>0</td>\n",
       "      <td>0</td>\n",
       "      <td>0</td>\n",
       "      <td>0</td>\n",
       "    </tr>\n",
       "    <tr>\n",
       "      <th>3</th>\n",
       "      <td>2017-01-06</td>\n",
       "      <td>telefonia_audio_video</td>\n",
       "      <td>10.49</td>\n",
       "      <td>0.000000</td>\n",
       "      <td>0</td>\n",
       "      <td>0</td>\n",
       "      <td>0</td>\n",
       "      <td>0</td>\n",
       "      <td>0</td>\n",
       "      <td>0</td>\n",
       "      <td>0</td>\n",
       "      <td>0</td>\n",
       "      <td>0</td>\n",
       "      <td>0</td>\n",
       "      <td>0</td>\n",
       "      <td>1</td>\n",
       "    </tr>\n",
       "    <tr>\n",
       "      <th>4</th>\n",
       "      <td>2017-01-07</td>\n",
       "      <td>beleza</td>\n",
       "      <td>370.00</td>\n",
       "      <td>0.001692</td>\n",
       "      <td>1</td>\n",
       "      <td>0</td>\n",
       "      <td>0</td>\n",
       "      <td>0</td>\n",
       "      <td>0</td>\n",
       "      <td>0</td>\n",
       "      <td>0</td>\n",
       "      <td>0</td>\n",
       "      <td>0</td>\n",
       "      <td>0</td>\n",
       "      <td>0</td>\n",
       "      <td>0</td>\n",
       "    </tr>\n",
       "  </tbody>\n",
       "</table>\n",
       "</div>"
      ],
      "text/plain": [
       "  order_purchase_timestamp                  grupo   price  ajuste_data  \\\n",
       "0               2017-01-06                 beleza  636.00     0.000000   \n",
       "1               2017-01-06               crianças  159.99     0.000000   \n",
       "2               2017-01-06                  games  109.90     0.000000   \n",
       "3               2017-01-06  telefonia_audio_video   10.49     0.000000   \n",
       "4               2017-01-07                 beleza  370.00     0.001692   \n",
       "\n",
       "   beleza  carro  casa  construção  crianças  eletro_eletronicos  esporte  \\\n",
       "0       1      0     0           0         0                   0        0   \n",
       "1       0      0     0           0         1                   0        0   \n",
       "2       0      0     0           0         0                   0        0   \n",
       "3       0      0     0           0         0                   0        0   \n",
       "4       1      0     0           0         0                   0        0   \n",
       "\n",
       "   games  outros  presentes  produtos_diversos  telefonia_audio_video  \n",
       "0      0       0          0                  0                      0  \n",
       "1      0       0          0                  0                      0  \n",
       "2      1       0          0                  0                      0  \n",
       "3      0       0          0                  0                      1  \n",
       "4      0       0          0                  0                      0  "
      ]
     },
     "execution_count": 51,
     "metadata": {},
     "output_type": "execute_result"
    }
   ],
   "source": [
    "# Fazendo o get_dummies para a base de treino, devido não ser possível converter string em float\n",
    "treino = pd.concat([treino,pd.get_dummies(treino.grupo)],axis=1)\n",
    "treino.head()"
   ]
  },
  {
   "cell_type": "code",
   "execution_count": 52,
   "id": "a978e4e7",
   "metadata": {},
   "outputs": [
    {
     "data": {
      "text/html": [
       "<div>\n",
       "<style scoped>\n",
       "    .dataframe tbody tr th:only-of-type {\n",
       "        vertical-align: middle;\n",
       "    }\n",
       "\n",
       "    .dataframe tbody tr th {\n",
       "        vertical-align: top;\n",
       "    }\n",
       "\n",
       "    .dataframe thead th {\n",
       "        text-align: right;\n",
       "    }\n",
       "</style>\n",
       "<table border=\"1\" class=\"dataframe\">\n",
       "  <thead>\n",
       "    <tr style=\"text-align: right;\">\n",
       "      <th></th>\n",
       "      <th>ajuste_data</th>\n",
       "      <th>beleza</th>\n",
       "      <th>carro</th>\n",
       "      <th>casa</th>\n",
       "      <th>construção</th>\n",
       "      <th>crianças</th>\n",
       "      <th>eletro_eletronicos</th>\n",
       "      <th>esporte</th>\n",
       "      <th>games</th>\n",
       "      <th>outros</th>\n",
       "      <th>presentes</th>\n",
       "      <th>produtos_diversos</th>\n",
       "      <th>telefonia_audio_video</th>\n",
       "    </tr>\n",
       "  </thead>\n",
       "  <tbody>\n",
       "    <tr>\n",
       "      <th>0</th>\n",
       "      <td>0.000000</td>\n",
       "      <td>1</td>\n",
       "      <td>0</td>\n",
       "      <td>0</td>\n",
       "      <td>0</td>\n",
       "      <td>0</td>\n",
       "      <td>0</td>\n",
       "      <td>0</td>\n",
       "      <td>0</td>\n",
       "      <td>0</td>\n",
       "      <td>0</td>\n",
       "      <td>0</td>\n",
       "      <td>0</td>\n",
       "    </tr>\n",
       "    <tr>\n",
       "      <th>1</th>\n",
       "      <td>0.000000</td>\n",
       "      <td>0</td>\n",
       "      <td>0</td>\n",
       "      <td>0</td>\n",
       "      <td>0</td>\n",
       "      <td>1</td>\n",
       "      <td>0</td>\n",
       "      <td>0</td>\n",
       "      <td>0</td>\n",
       "      <td>0</td>\n",
       "      <td>0</td>\n",
       "      <td>0</td>\n",
       "      <td>0</td>\n",
       "    </tr>\n",
       "    <tr>\n",
       "      <th>2</th>\n",
       "      <td>0.000000</td>\n",
       "      <td>0</td>\n",
       "      <td>0</td>\n",
       "      <td>0</td>\n",
       "      <td>0</td>\n",
       "      <td>0</td>\n",
       "      <td>0</td>\n",
       "      <td>0</td>\n",
       "      <td>1</td>\n",
       "      <td>0</td>\n",
       "      <td>0</td>\n",
       "      <td>0</td>\n",
       "      <td>0</td>\n",
       "    </tr>\n",
       "    <tr>\n",
       "      <th>3</th>\n",
       "      <td>0.000000</td>\n",
       "      <td>0</td>\n",
       "      <td>0</td>\n",
       "      <td>0</td>\n",
       "      <td>0</td>\n",
       "      <td>0</td>\n",
       "      <td>0</td>\n",
       "      <td>0</td>\n",
       "      <td>0</td>\n",
       "      <td>0</td>\n",
       "      <td>0</td>\n",
       "      <td>0</td>\n",
       "      <td>1</td>\n",
       "    </tr>\n",
       "    <tr>\n",
       "      <th>4</th>\n",
       "      <td>0.001692</td>\n",
       "      <td>1</td>\n",
       "      <td>0</td>\n",
       "      <td>0</td>\n",
       "      <td>0</td>\n",
       "      <td>0</td>\n",
       "      <td>0</td>\n",
       "      <td>0</td>\n",
       "      <td>0</td>\n",
       "      <td>0</td>\n",
       "      <td>0</td>\n",
       "      <td>0</td>\n",
       "      <td>0</td>\n",
       "    </tr>\n",
       "  </tbody>\n",
       "</table>\n",
       "</div>"
      ],
      "text/plain": [
       "   ajuste_data  beleza  carro  casa  construção  crianças  eletro_eletronicos  \\\n",
       "0     0.000000       1      0     0           0         0                   0   \n",
       "1     0.000000       0      0     0           0         1                   0   \n",
       "2     0.000000       0      0     0           0         0                   0   \n",
       "3     0.000000       0      0     0           0         0                   0   \n",
       "4     0.001692       1      0     0           0         0                   0   \n",
       "\n",
       "   esporte  games  outros  presentes  produtos_diversos  telefonia_audio_video  \n",
       "0        0      0       0          0                  0                      0  \n",
       "1        0      0       0          0                  0                      0  \n",
       "2        0      1       0          0                  0                      0  \n",
       "3        0      0       0          0                  0                      1  \n",
       "4        0      0       0          0                  0                      0  "
      ]
     },
     "execution_count": 52,
     "metadata": {},
     "output_type": "execute_result"
    }
   ],
   "source": [
    "# Separando X e y\n",
    "X_treino = treino.drop(['order_purchase_timestamp', 'grupo', 'price'], axis=1)\n",
    "y_treino = treino.price\n",
    "X_treino.head()"
   ]
  },
  {
   "cell_type": "code",
   "execution_count": 53,
   "id": "79b7c882",
   "metadata": {},
   "outputs": [],
   "source": [
    "# E fazendo a regressão linear\n",
    "reg = LinearRegression().fit(X_treino, y_treino)"
   ]
  },
  {
   "cell_type": "code",
   "execution_count": 54,
   "id": "e5b19535",
   "metadata": {},
   "outputs": [
    {
     "data": {
      "text/plain": [
       "0.46798915477922054"
      ]
     },
     "execution_count": 54,
     "metadata": {},
     "output_type": "execute_result"
    }
   ],
   "source": [
    "# Verificando o score\n",
    "reg.score(X_treino, y_treino)"
   ]
  },
  {
   "cell_type": "code",
   "execution_count": 55,
   "id": "781cc6ce",
   "metadata": {},
   "outputs": [
    {
     "data": {
      "text/plain": [
       "array([2.94237730e+03, 1.62932632e+16, 1.62932632e+16, 1.62932632e+16,\n",
       "       1.62932632e+16, 1.62932632e+16, 1.62932632e+16, 1.62932632e+16,\n",
       "       1.62932632e+16, 1.62932632e+16, 1.62932632e+16, 1.62932632e+16,\n",
       "       1.62932632e+16])"
      ]
     },
     "execution_count": 55,
     "metadata": {},
     "output_type": "execute_result"
    }
   ],
   "source": [
    "# o coeficiente angular\n",
    "reg.coef_"
   ]
  },
  {
   "cell_type": "code",
   "execution_count": 56,
   "id": "f2cc53ab",
   "metadata": {},
   "outputs": [
    {
     "data": {
      "text/plain": [
       "-1.6293263192920528e+16"
      ]
     },
     "execution_count": 56,
     "metadata": {},
     "output_type": "execute_result"
    }
   ],
   "source": [
    "# e o coeficiente linear\n",
    "reg.intercept_"
   ]
  },
  {
   "cell_type": "code",
   "execution_count": 57,
   "id": "641e91b4",
   "metadata": {},
   "outputs": [],
   "source": [
    "# Salvando na base de treino a previsao que acabamos de fazer\n",
    "treino['previsao'] = reg.predict(X_treino)"
   ]
  },
  {
   "cell_type": "code",
   "execution_count": 58,
   "id": "6769782e",
   "metadata": {},
   "outputs": [
    {
     "data": {
      "image/png": "[encoded data removed]",
      "text/plain": [
       "<Figure size 864x432 with 1 Axes>"
      ]
     },
     "metadata": {
      "needs_background": "light"
     },
     "output_type": "display_data"
    }
   ],
   "source": [
    "# Podemos então visualizar essa base de treino e teste\n",
    "fig, ax = plt.subplots(figsize=(12,6))\n",
    "\n",
    "filtro = 'beleza'\n",
    "\n",
    "base_treino = treino[treino.grupo == filtro]\n",
    "base_teste = teste[teste.grupo == filtro]\n",
    "\n",
    "ax.plot(base_treino.order_purchase_timestamp, base_treino.price)\n",
    "ax.plot(base_teste.order_purchase_timestamp, base_teste.price)\n",
    "ax.plot(base_treino.order_purchase_timestamp, base_treino.previsao, '--r')\n",
    "\n",
    "plt.show()"
   ]
  },
  {
   "cell_type": "code",
   "execution_count": 59,
   "id": "bf6be29b",
   "metadata": {},
   "outputs": [
    {
     "data": {
      "text/html": [
       "<div>\n",
       "<style scoped>\n",
       "    .dataframe tbody tr th:only-of-type {\n",
       "        vertical-align: middle;\n",
       "    }\n",
       "\n",
       "    .dataframe tbody tr th {\n",
       "        vertical-align: top;\n",
       "    }\n",
       "\n",
       "    .dataframe thead th {\n",
       "        text-align: right;\n",
       "    }\n",
       "</style>\n",
       "<table border=\"1\" class=\"dataframe\">\n",
       "  <thead>\n",
       "    <tr style=\"text-align: right;\">\n",
       "      <th></th>\n",
       "      <th>order_purchase_timestamp</th>\n",
       "      <th>grupo</th>\n",
       "      <th>price</th>\n",
       "      <th>ajuste_data</th>\n",
       "    </tr>\n",
       "  </thead>\n",
       "  <tbody>\n",
       "    <tr>\n",
       "      <th>4764</th>\n",
       "      <td>2018-03-02</td>\n",
       "      <td>beleza</td>\n",
       "      <td>6377.81</td>\n",
       "      <td>0.71066</td>\n",
       "    </tr>\n",
       "    <tr>\n",
       "      <th>4765</th>\n",
       "      <td>2018-03-02</td>\n",
       "      <td>carro</td>\n",
       "      <td>730.02</td>\n",
       "      <td>0.71066</td>\n",
       "    </tr>\n",
       "    <tr>\n",
       "      <th>4766</th>\n",
       "      <td>2018-03-02</td>\n",
       "      <td>casa</td>\n",
       "      <td>6872.26</td>\n",
       "      <td>0.71066</td>\n",
       "    </tr>\n",
       "  </tbody>\n",
       "</table>\n",
       "</div>"
      ],
      "text/plain": [
       "     order_purchase_timestamp   grupo    price  ajuste_data\n",
       "4764               2018-03-02  beleza  6377.81      0.71066\n",
       "4765               2018-03-02   carro   730.02      0.71066\n",
       "4766               2018-03-02    casa  6872.26      0.71066"
      ]
     },
     "execution_count": 59,
     "metadata": {},
     "output_type": "execute_result"
    }
   ],
   "source": [
    "# Verificando a base de teste\n",
    "teste.head(3)"
   ]
  },
  {
   "cell_type": "code",
   "execution_count": 60,
   "id": "2fdf8aae",
   "metadata": {},
   "outputs": [],
   "source": [
    "# E a transformação do grupo\n",
    "teste = pd.concat([teste,pd.get_dummies(teste.grupo)], axis=1)"
   ]
  },
  {
   "cell_type": "code",
   "execution_count": 61,
   "id": "598882fb",
   "metadata": {},
   "outputs": [],
   "source": [
    "# Separando X e y\n",
    "X_teste = teste.drop(['order_purchase_timestamp','grupo','price'], axis=1)\n",
    "y_teste = teste.price"
   ]
  },
  {
   "cell_type": "code",
   "execution_count": 62,
   "id": "32157c66",
   "metadata": {},
   "outputs": [],
   "source": [
    "# E fazendo a previsão para a base de teste\n",
    "teste['previsao'] = reg.predict(X_teste)"
   ]
  },
  {
   "cell_type": "code",
   "execution_count": 63,
   "id": "ddcb8e3b",
   "metadata": {},
   "outputs": [
    {
     "data": {
      "image/png": "[encoded data removed]",
      "text/plain": [
       "<Figure size 864x432 with 1 Axes>"
      ]
     },
     "metadata": {
      "needs_background": "light"
     },
     "output_type": "display_data"
    }
   ],
   "source": [
    "# Podemos então visualizar essa previsão\n",
    "fig, ax = plt.subplots(figsize=(12,6))\n",
    "\n",
    "filtro = 'beleza'\n",
    "\n",
    "base_treino = treino[treino.grupo == filtro]\n",
    "base_teste = teste[teste.grupo == filtro]\n",
    "\n",
    "ax.plot(base_treino.order_purchase_timestamp, base_treino.price)\n",
    "ax.plot(base_teste.order_purchase_timestamp, base_teste.price)\n",
    "ax.plot(base_treino.order_purchase_timestamp, base_treino.previsao, '--r')\n",
    "ax.plot(base_teste.order_purchase_timestamp, base_teste.previsao, '--r')\n",
    "\n",
    "plt.show()"
   ]
  },
  {
   "cell_type": "code",
   "execution_count": 64,
   "id": "4ff72d88",
   "metadata": {},
   "outputs": [
    {
     "data": {
      "text/html": [
       "<div>\n",
       "<style scoped>\n",
       "    .dataframe tbody tr th:only-of-type {\n",
       "        vertical-align: middle;\n",
       "    }\n",
       "\n",
       "    .dataframe tbody tr th {\n",
       "        vertical-align: top;\n",
       "    }\n",
       "\n",
       "    .dataframe thead th {\n",
       "        text-align: right;\n",
       "    }\n",
       "</style>\n",
       "<table border=\"1\" class=\"dataframe\">\n",
       "  <thead>\n",
       "    <tr style=\"text-align: right;\">\n",
       "      <th></th>\n",
       "      <th>order_id</th>\n",
       "      <th>customer_id</th>\n",
       "      <th>order_status</th>\n",
       "      <th>order_purchase_timestamp</th>\n",
       "      <th>order_delivered_carrier_date</th>\n",
       "      <th>order_delivered_customer_date</th>\n",
       "      <th>order_estimated_delivery_date</th>\n",
       "      <th>order_item_id</th>\n",
       "      <th>product_id</th>\n",
       "      <th>seller_id</th>\n",
       "      <th>...</th>\n",
       "      <th>price</th>\n",
       "      <th>freight_value</th>\n",
       "      <th>customer_unique_id</th>\n",
       "      <th>customer_city</th>\n",
       "      <th>customer_state</th>\n",
       "      <th>dia_compra</th>\n",
       "      <th>mes_compra</th>\n",
       "      <th>ano_compra</th>\n",
       "      <th>ano_mes</th>\n",
       "      <th>grupo</th>\n",
       "    </tr>\n",
       "  </thead>\n",
       "  <tbody>\n",
       "    <tr>\n",
       "      <th>0</th>\n",
       "      <td>e481f51cbdc54678b7cc49136f2d6af7</td>\n",
       "      <td>9ef432eb6251297304e76186b10a928d</td>\n",
       "      <td>delivered</td>\n",
       "      <td>2017-10-02</td>\n",
       "      <td>2017-10-04</td>\n",
       "      <td>2017-10-10</td>\n",
       "      <td>2017-10-18</td>\n",
       "      <td>1.0</td>\n",
       "      <td>87285b34884572647811a353c7ac498a</td>\n",
       "      <td>3504c0cb71d7fa48d967e0e4c94d59d9</td>\n",
       "      <td>...</td>\n",
       "      <td>29.99</td>\n",
       "      <td>8.72</td>\n",
       "      <td>7c396fd4830fd04220f754e42b4e5bff</td>\n",
       "      <td>sao paulo</td>\n",
       "      <td>SP</td>\n",
       "      <td>2</td>\n",
       "      <td>10</td>\n",
       "      <td>2017</td>\n",
       "      <td>2017-10</td>\n",
       "      <td>casa</td>\n",
       "    </tr>\n",
       "    <tr>\n",
       "      <th>1</th>\n",
       "      <td>53cdb2fc8bc7dce0b6741e2150273451</td>\n",
       "      <td>b0830fb4747a6c6d20dea0b8c802d7ef</td>\n",
       "      <td>delivered</td>\n",
       "      <td>2018-07-24</td>\n",
       "      <td>2018-07-26</td>\n",
       "      <td>2018-08-07</td>\n",
       "      <td>2018-08-13</td>\n",
       "      <td>1.0</td>\n",
       "      <td>595fac2a385ac33a80bd5114aec74eb8</td>\n",
       "      <td>289cdb325fb7e7f891c38608bf9e0962</td>\n",
       "      <td>...</td>\n",
       "      <td>118.70</td>\n",
       "      <td>22.76</td>\n",
       "      <td>af07308b275d755c9edb36a90c618231</td>\n",
       "      <td>barreiras</td>\n",
       "      <td>BA</td>\n",
       "      <td>24</td>\n",
       "      <td>7</td>\n",
       "      <td>2018</td>\n",
       "      <td>2018-07</td>\n",
       "      <td>beleza</td>\n",
       "    </tr>\n",
       "    <tr>\n",
       "      <th>2</th>\n",
       "      <td>47770eb9100c2d0c44946d9cf07ec65d</td>\n",
       "      <td>41ce2a54c0b03bf3443c3d931a367089</td>\n",
       "      <td>delivered</td>\n",
       "      <td>2018-08-08</td>\n",
       "      <td>2018-08-08</td>\n",
       "      <td>2018-08-17</td>\n",
       "      <td>2018-09-04</td>\n",
       "      <td>1.0</td>\n",
       "      <td>aa4383b373c6aca5d8797843e5594415</td>\n",
       "      <td>4869f7a5dfa277a7dca6462dcf3b52b2</td>\n",
       "      <td>...</td>\n",
       "      <td>159.90</td>\n",
       "      <td>19.22</td>\n",
       "      <td>3a653a41f6f9fc3d2a113cf8398680e8</td>\n",
       "      <td>vianopolis</td>\n",
       "      <td>GO</td>\n",
       "      <td>8</td>\n",
       "      <td>8</td>\n",
       "      <td>2018</td>\n",
       "      <td>2018-08</td>\n",
       "      <td>carro</td>\n",
       "    </tr>\n",
       "  </tbody>\n",
       "</table>\n",
       "<p>3 rows × 21 columns</p>\n",
       "</div>"
      ],
      "text/plain": [
       "                           order_id                       customer_id  \\\n",
       "0  e481f51cbdc54678b7cc49136f2d6af7  9ef432eb6251297304e76186b10a928d   \n",
       "1  53cdb2fc8bc7dce0b6741e2150273451  b0830fb4747a6c6d20dea0b8c802d7ef   \n",
       "2  47770eb9100c2d0c44946d9cf07ec65d  41ce2a54c0b03bf3443c3d931a367089   \n",
       "\n",
       "  order_status order_purchase_timestamp order_delivered_carrier_date  \\\n",
       "0    delivered               2017-10-02                   2017-10-04   \n",
       "1    delivered               2018-07-24                   2018-07-26   \n",
       "2    delivered               2018-08-08                   2018-08-08   \n",
       "\n",
       "  order_delivered_customer_date order_estimated_delivery_date  order_item_id  \\\n",
       "0                    2017-10-10                    2017-10-18            1.0   \n",
       "1                    2018-08-07                    2018-08-13            1.0   \n",
       "2                    2018-08-17                    2018-09-04            1.0   \n",
       "\n",
       "                         product_id                         seller_id  ...  \\\n",
       "0  87285b34884572647811a353c7ac498a  3504c0cb71d7fa48d967e0e4c94d59d9  ...   \n",
       "1  595fac2a385ac33a80bd5114aec74eb8  289cdb325fb7e7f891c38608bf9e0962  ...   \n",
       "2  aa4383b373c6aca5d8797843e5594415  4869f7a5dfa277a7dca6462dcf3b52b2  ...   \n",
       "\n",
       "    price  freight_value                customer_unique_id customer_city  \\\n",
       "0   29.99           8.72  7c396fd4830fd04220f754e42b4e5bff     sao paulo   \n",
       "1  118.70          22.76  af07308b275d755c9edb36a90c618231     barreiras   \n",
       "2  159.90          19.22  3a653a41f6f9fc3d2a113cf8398680e8    vianopolis   \n",
       "\n",
       "  customer_state dia_compra  mes_compra  ano_compra  ano_mes   grupo  \n",
       "0             SP          2          10        2017  2017-10    casa  \n",
       "1             BA         24           7        2018  2018-07  beleza  \n",
       "2             GO          8           8        2018  2018-08   carro  \n",
       "\n",
       "[3 rows x 21 columns]"
      ]
     },
     "execution_count": 64,
     "metadata": {},
     "output_type": "execute_result"
    }
   ],
   "source": [
    "# Verificando novamente a base de venda\n",
    "vendas.head(3)"
   ]
  },
  {
   "cell_type": "code",
   "execution_count": 65,
   "id": "659d5120",
   "metadata": {},
   "outputs": [],
   "source": [
    "# Agora vamos utilizar as colunas mes_compra e ano_compra\n",
    "venda_grupos = vendas.groupby(['order_purchase_timestamp','mes_compra', 'ano_compra', 'grupo'])['price'].sum().reset_index()"
   ]
  },
  {
   "cell_type": "code",
   "execution_count": 66,
   "id": "334c409d",
   "metadata": {},
   "outputs": [],
   "source": [
    "# Separando em treino e teste\n",
    "treino = venda_grupos[venda_grupos.order_purchase_timestamp <= dt.datetime(2018,3,1)]\n",
    "teste = venda_grupos[venda_grupos.order_purchase_timestamp > dt.datetime(2018,3,1)]"
   ]
  },
  {
   "cell_type": "code",
   "execution_count": 67,
   "id": "9395dace",
   "metadata": {},
   "outputs": [],
   "source": [
    "# Agora vamos criar novamente o nosso modelo\n",
    "\n",
    "# Separando X e y para treino\n",
    "treino = pd.concat([treino, pd.get_dummies(treino.grupo)], axis=1)\n",
    "X_treino = treino.drop(['order_purchase_timestamp', 'grupo', 'price'], axis=1)\n",
    "y_treino = treino.price\n",
    "\n",
    "# Fazendo o fit do modelo\n",
    "reg = LinearRegression().fit(X_treino, y_treino)\n",
    "\n",
    "# Fazendo a previsão para a base de treino\n",
    "treino['previsao'] = reg.predict(X_treino)\n",
    "\n",
    "# Fazendo a previsão para a base de teste\n",
    "teste = pd.concat([teste, pd.get_dummies(teste.grupo)], axis=1)\n",
    "X_teste = teste.drop(['order_purchase_timestamp', 'grupo', 'price'], axis=1)\n",
    "teste['previsao'] = reg.predict(X_teste)"
   ]
  },
  {
   "cell_type": "code",
   "execution_count": 68,
   "id": "de98dd65",
   "metadata": {},
   "outputs": [
    {
     "data": {
      "image/png": "[encoded data removed]",
      "text/plain": [
       "<Figure size 864x432 with 1 Axes>"
      ]
     },
     "metadata": {
      "needs_background": "light"
     },
     "output_type": "display_data"
    }
   ],
   "source": [
    "# Visualizando de forma gráfica\n",
    "fig, ax = plt.subplots(figsize=(12,6))\n",
    "\n",
    "filtro = 'beleza'\n",
    "\n",
    "base_treino = treino[treino.grupo == filtro]\n",
    "base_teste = teste[teste.grupo == filtro]\n",
    "\n",
    "ax.plot(base_treino.order_purchase_timestamp, base_treino.price)\n",
    "ax.plot(base_teste.order_purchase_timestamp, base_teste.price)\n",
    "ax.plot(base_treino.order_purchase_timestamp, base_treino.previsao, '--r')\n",
    "ax.plot(base_teste.order_purchase_timestamp, base_teste.previsao, '--r')\n",
    "\n",
    "plt.show()"
   ]
  },
  {
   "cell_type": "code",
   "execution_count": 69,
   "id": "8f51fd55",
   "metadata": {},
   "outputs": [
    {
     "data": {
      "text/html": [
       "<div>\n",
       "<style scoped>\n",
       "    .dataframe tbody tr th:only-of-type {\n",
       "        vertical-align: middle;\n",
       "    }\n",
       "\n",
       "    .dataframe tbody tr th {\n",
       "        vertical-align: top;\n",
       "    }\n",
       "\n",
       "    .dataframe thead th {\n",
       "        text-align: right;\n",
       "    }\n",
       "</style>\n",
       "<table border=\"1\" class=\"dataframe\">\n",
       "  <thead>\n",
       "    <tr style=\"text-align: right;\">\n",
       "      <th></th>\n",
       "      <th>order_purchase_timestamp</th>\n",
       "      <th>mes_compra</th>\n",
       "      <th>ano_compra</th>\n",
       "      <th>grupo</th>\n",
       "      <th>price</th>\n",
       "      <th>beleza</th>\n",
       "      <th>carro</th>\n",
       "      <th>casa</th>\n",
       "      <th>construção</th>\n",
       "      <th>crianças</th>\n",
       "      <th>eletro_eletronicos</th>\n",
       "      <th>esporte</th>\n",
       "      <th>games</th>\n",
       "      <th>outros</th>\n",
       "      <th>presentes</th>\n",
       "      <th>produtos_diversos</th>\n",
       "      <th>telefonia_audio_video</th>\n",
       "      <th>previsao</th>\n",
       "    </tr>\n",
       "  </thead>\n",
       "  <tbody>\n",
       "    <tr>\n",
       "      <th>0</th>\n",
       "      <td>2017-01-06</td>\n",
       "      <td>1</td>\n",
       "      <td>2017</td>\n",
       "      <td>beleza</td>\n",
       "      <td>636.00</td>\n",
       "      <td>1</td>\n",
       "      <td>0</td>\n",
       "      <td>0</td>\n",
       "      <td>0</td>\n",
       "      <td>0</td>\n",
       "      <td>0</td>\n",
       "      <td>0</td>\n",
       "      <td>0</td>\n",
       "      <td>0</td>\n",
       "      <td>0</td>\n",
       "      <td>0</td>\n",
       "      <td>0</td>\n",
       "      <td>1462.0</td>\n",
       "    </tr>\n",
       "    <tr>\n",
       "      <th>1</th>\n",
       "      <td>2017-01-06</td>\n",
       "      <td>1</td>\n",
       "      <td>2017</td>\n",
       "      <td>crianças</td>\n",
       "      <td>159.99</td>\n",
       "      <td>0</td>\n",
       "      <td>0</td>\n",
       "      <td>0</td>\n",
       "      <td>0</td>\n",
       "      <td>1</td>\n",
       "      <td>0</td>\n",
       "      <td>0</td>\n",
       "      <td>0</td>\n",
       "      <td>0</td>\n",
       "      <td>0</td>\n",
       "      <td>0</td>\n",
       "      <td>0</td>\n",
       "      <td>309.0</td>\n",
       "    </tr>\n",
       "    <tr>\n",
       "      <th>2</th>\n",
       "      <td>2017-01-06</td>\n",
       "      <td>1</td>\n",
       "      <td>2017</td>\n",
       "      <td>games</td>\n",
       "      <td>109.90</td>\n",
       "      <td>0</td>\n",
       "      <td>0</td>\n",
       "      <td>0</td>\n",
       "      <td>0</td>\n",
       "      <td>0</td>\n",
       "      <td>0</td>\n",
       "      <td>0</td>\n",
       "      <td>1</td>\n",
       "      <td>0</td>\n",
       "      <td>0</td>\n",
       "      <td>0</td>\n",
       "      <td>0</td>\n",
       "      <td>-161.0</td>\n",
       "    </tr>\n",
       "  </tbody>\n",
       "</table>\n",
       "</div>"
      ],
      "text/plain": [
       "  order_purchase_timestamp  mes_compra  ano_compra     grupo   price  beleza  \\\n",
       "0               2017-01-06           1        2017    beleza  636.00       1   \n",
       "1               2017-01-06           1        2017  crianças  159.99       0   \n",
       "2               2017-01-06           1        2017     games  109.90       0   \n",
       "\n",
       "   carro  casa  construção  crianças  eletro_eletronicos  esporte  games  \\\n",
       "0      0     0           0         0                   0        0      0   \n",
       "1      0     0           0         1                   0        0      0   \n",
       "2      0     0           0         0                   0        0      1   \n",
       "\n",
       "   outros  presentes  produtos_diversos  telefonia_audio_video  previsao  \n",
       "0       0          0                  0                      0    1462.0  \n",
       "1       0          0                  0                      0     309.0  \n",
       "2       0          0                  0                      0    -161.0  "
      ]
     },
     "execution_count": 69,
     "metadata": {},
     "output_type": "execute_result"
    }
   ],
   "source": [
    "# Testando a Árvore de Decisão\n",
    "# Verificando a base de treino\n",
    "treino.head(3)"
   ]
  },
  {
   "cell_type": "code",
   "execution_count": 70,
   "id": "2710d32b",
   "metadata": {},
   "outputs": [],
   "source": [
    "# Separando X e y de treino\n",
    "X_treino = treino.drop(['order_purchase_timestamp', 'grupo', 'price', 'previsao'], axis=1)\n",
    "y_treino = treino.price"
   ]
  },
  {
   "cell_type": "code",
   "execution_count": 71,
   "id": "e7ca0646",
   "metadata": {},
   "outputs": [],
   "source": [
    "# Criando o nosso regressor da árvore de decisão\n",
    "regressor = DecisionTreeRegressor(random_state=0)"
   ]
  },
  {
   "cell_type": "code",
   "execution_count": 72,
   "id": "98a251b8",
   "metadata": {},
   "outputs": [
    {
     "data": {
      "text/plain": [
       "DecisionTreeRegressor(random_state=0)"
      ]
     },
     "execution_count": 72,
     "metadata": {},
     "output_type": "execute_result"
    }
   ],
   "source": [
    "# Fazendo o fit do modelo\n",
    "regressor.fit(X_treino, y_treino)"
   ]
  },
  {
   "cell_type": "code",
   "execution_count": 73,
   "id": "69aecfd3",
   "metadata": {},
   "outputs": [
    {
     "data": {
      "text/plain": [
       "0.5728847066032111"
      ]
     },
     "execution_count": 73,
     "metadata": {},
     "output_type": "execute_result"
    }
   ],
   "source": [
    "# Verificando o score\n",
    "regressor.score(X_treino, y_treino)"
   ]
  },
  {
   "cell_type": "code",
   "execution_count": 74,
   "id": "4c3ed088",
   "metadata": {},
   "outputs": [],
   "source": [
    "# Fazendo a previsão pro treino e teste\n",
    "treino['prev_arvore'] = regressor.predict(X_treino)\n",
    "\n",
    "X_teste = teste.drop(['order_purchase_timestamp', 'grupo', 'price', 'previsao'], axis=1)\n",
    "teste['prev_arvore'] = regressor.predict(X_teste)"
   ]
  },
  {
   "cell_type": "code",
   "execution_count": 75,
   "id": "2d16250c",
   "metadata": {},
   "outputs": [
    {
     "data": {
      "image/png": "[encoded data removed]",
      "text/plain": [
       "<Figure size 864x432 with 1 Axes>"
      ]
     },
     "metadata": {
      "needs_background": "light"
     },
     "output_type": "display_data"
    }
   ],
   "source": [
    "# Adicionando esses dados no gráfico anterior\n",
    "fig, ax = plt.subplots(figsize=(12,6))\n",
    "\n",
    "filtro = 'beleza'\n",
    "\n",
    "base_treino = treino[treino.grupo == filtro]\n",
    "base_teste = teste[teste.grupo == filtro]\n",
    "\n",
    "ax.plot(base_treino.order_purchase_timestamp, base_treino.price)\n",
    "ax.plot(base_teste.order_purchase_timestamp, base_teste.price)\n",
    "ax.plot(base_treino.order_purchase_timestamp, base_treino.previsao, '--r')\n",
    "ax.plot(base_teste.order_purchase_timestamp, base_teste.previsao, '--r')\n",
    "ax.plot(base_treino.order_purchase_timestamp, base_treino.prev_arvore, '--y')\n",
    "ax.plot(base_teste.order_purchase_timestamp, base_teste.prev_arvore, '--y')\n",
    "\n",
    "plt.show()"
   ]
  },
  {
   "cell_type": "code",
   "execution_count": 76,
   "id": "8acc8775",
   "metadata": {},
   "outputs": [
    {
     "data": {
      "text/plain": [
       "1428.1206360946744"
      ]
     },
     "execution_count": 76,
     "metadata": {},
     "output_type": "execute_result"
    }
   ],
   "source": [
    "# Analisando o erro na regressão linear\n",
    "y_true = teste.price\n",
    "y_pred = teste.previsao\n",
    "mean_absolute_error(y_true, y_pred)"
   ]
  },
  {
   "cell_type": "code",
   "execution_count": 77,
   "id": "6826fbd4",
   "metadata": {},
   "outputs": [
    {
     "data": {
      "text/plain": [
       "1515.8149457593688"
      ]
     },
     "execution_count": 77,
     "metadata": {},
     "output_type": "execute_result"
    }
   ],
   "source": [
    "# Analisando o erro na árvore de decisão\n",
    "y_true = teste.price\n",
    "y_pred = teste.prev_arvore\n",
    "mean_absolute_error(y_true, y_pred)"
   ]
  },
  {
   "cell_type": "code",
   "execution_count": 78,
   "id": "b00801c0",
   "metadata": {},
   "outputs": [],
   "source": [
    "# Podemos melhorar os parâmetros da árvore de decisão\n",
    "# Criando o regressor\n",
    "regressor = DecisionTreeRegressor(random_state=0, max_depth=5)\n",
    "\n",
    "#Fazendo o fit do modelo\n",
    "regressor.fit(X_treino,y_treino)\n",
    "\n",
    "#Fazendo a previsão para a base de teste\n",
    "y_pred_arvore = regressor.predict(X_teste)"
   ]
  },
  {
   "cell_type": "code",
   "execution_count": 79,
   "id": "ebc9d23b",
   "metadata": {},
   "outputs": [
    {
     "data": {
      "text/plain": [
       "1410.7095502380175"
      ]
     },
     "execution_count": 79,
     "metadata": {},
     "output_type": "execute_result"
    }
   ],
   "source": [
    "# Analisando o erro na árvore\n",
    "mean_absolute_error(y_teste, y_pred_arvore)"
   ]
  },
  {
   "cell_type": "code",
   "execution_count": 80,
   "id": "91674eb8",
   "metadata": {},
   "outputs": [
    {
     "name": "stdout",
     "output_type": "stream",
     "text": [
      "1\n",
      "1479.470699932905\n",
      "2\n",
      "1350.6020307667957\n",
      "3\n",
      "1476.329349434448\n",
      "4\n",
      "1389.5748069222627\n",
      "5\n",
      "1410.7095502380175\n",
      "6\n",
      "1423.0800307126863\n",
      "7\n",
      "1349.6478409168199\n",
      "8\n",
      "1324.3767520233964\n",
      "9\n",
      "1310.715278520996\n",
      "10\n",
      "1380.8285512820514\n",
      "11\n",
      "1494.6193997256794\n",
      "12\n",
      "1487.7440461130382\n",
      "13\n",
      "1488.6608166700673\n",
      "14\n",
      "1515.8149457593688\n",
      "15\n",
      "1515.8149457593688\n",
      "16\n",
      "1515.8149457593688\n",
      "17\n",
      "1515.8149457593688\n",
      "18\n",
      "1515.8149457593688\n",
      "19\n",
      "1515.8149457593688\n"
     ]
    }
   ],
   "source": [
    "for i in range(1,20):\n",
    "    print(i)\n",
    "    # Criando o regressor\n",
    "    regressor = DecisionTreeRegressor(random_state=0, max_depth=i)\n",
    "    \n",
    "    #Fazendo o fit do modelo\n",
    "    regressor.fit(X_treino,y_treino)\n",
    "\n",
    "    #Fazendo a previsão para a base de teste\n",
    "    y_pred_arvore = regressor.predict(X_teste)\n",
    "    \n",
    "    # Analisando o erro na árvore\n",
    "    print(mean_absolute_error(y_teste, y_pred_arvore))"
   ]
  },
  {
   "cell_type": "code",
   "execution_count": 81,
   "id": "8aa3caa3",
   "metadata": {},
   "outputs": [
    {
     "data": {
      "text/plain": [
       "1310.715278520996"
      ]
     },
     "execution_count": 81,
     "metadata": {},
     "output_type": "execute_result"
    }
   ],
   "source": [
    "# Criando o regressor\n",
    "regressor = DecisionTreeRegressor(random_state=0, max_depth=9)\n",
    "    \n",
    "#Fazendo o fit do modelo\n",
    "regressor.fit(X_treino,y_treino)\n",
    "\n",
    "#Fazendo a previsão para a base de teste\n",
    "y_pred_arvore = regressor.predict(X_teste)\n",
    "    \n",
    "# Analisando o erro na árvore\n",
    "mean_absolute_error(y_teste, y_pred_arvore)"
   ]
  },
  {
   "cell_type": "code",
   "execution_count": 82,
   "id": "c871fa95",
   "metadata": {},
   "outputs": [],
   "source": [
    "# Criano o nosso regressor suporte a vetores(SVR)\n",
    "regr = svm.SVR()"
   ]
  },
  {
   "cell_type": "code",
   "execution_count": 83,
   "id": "906f9ef3",
   "metadata": {},
   "outputs": [
    {
     "data": {
      "text/plain": [
       "SVR()"
      ]
     },
     "execution_count": 83,
     "metadata": {},
     "output_type": "execute_result"
    }
   ],
   "source": [
    "# Fazendo o fit do modelo\n",
    "regr.fit(X_treino, y_treino)"
   ]
  },
  {
   "cell_type": "code",
   "execution_count": 84,
   "id": "f1167d17",
   "metadata": {},
   "outputs": [],
   "source": [
    "# Prevendo para os dados de teste\n",
    "y_pred_SVR = regr.predict(X_teste)"
   ]
  },
  {
   "cell_type": "code",
   "execution_count": 85,
   "id": "4355d1b9",
   "metadata": {},
   "outputs": [
    {
     "data": {
      "text/plain": [
       "1791.351285666637"
      ]
     },
     "execution_count": 85,
     "metadata": {},
     "output_type": "execute_result"
    }
   ],
   "source": [
    "# Calculando o erro médio absoluto\n",
    "mean_absolute_error(y_teste, y_pred_SVR)"
   ]
  },
  {
   "cell_type": "code",
   "execution_count": 86,
   "id": "7d4c876b",
   "metadata": {},
   "outputs": [
    {
     "data": {
      "text/html": [
       "<div>\n",
       "<style scoped>\n",
       "    .dataframe tbody tr th:only-of-type {\n",
       "        vertical-align: middle;\n",
       "    }\n",
       "\n",
       "    .dataframe tbody tr th {\n",
       "        vertical-align: top;\n",
       "    }\n",
       "\n",
       "    .dataframe thead th {\n",
       "        text-align: right;\n",
       "    }\n",
       "</style>\n",
       "<table border=\"1\" class=\"dataframe\">\n",
       "  <thead>\n",
       "    <tr style=\"text-align: right;\">\n",
       "      <th></th>\n",
       "      <th>mes_compra</th>\n",
       "      <th>ano_compra</th>\n",
       "      <th>beleza</th>\n",
       "      <th>carro</th>\n",
       "      <th>casa</th>\n",
       "      <th>construção</th>\n",
       "      <th>crianças</th>\n",
       "      <th>eletro_eletronicos</th>\n",
       "      <th>esporte</th>\n",
       "      <th>games</th>\n",
       "      <th>outros</th>\n",
       "      <th>presentes</th>\n",
       "      <th>produtos_diversos</th>\n",
       "      <th>telefonia_audio_video</th>\n",
       "    </tr>\n",
       "  </thead>\n",
       "  <tbody>\n",
       "    <tr>\n",
       "      <th>0</th>\n",
       "      <td>1</td>\n",
       "      <td>2017</td>\n",
       "      <td>1</td>\n",
       "      <td>0</td>\n",
       "      <td>0</td>\n",
       "      <td>0</td>\n",
       "      <td>0</td>\n",
       "      <td>0</td>\n",
       "      <td>0</td>\n",
       "      <td>0</td>\n",
       "      <td>0</td>\n",
       "      <td>0</td>\n",
       "      <td>0</td>\n",
       "      <td>0</td>\n",
       "    </tr>\n",
       "    <tr>\n",
       "      <th>1</th>\n",
       "      <td>1</td>\n",
       "      <td>2017</td>\n",
       "      <td>0</td>\n",
       "      <td>0</td>\n",
       "      <td>0</td>\n",
       "      <td>0</td>\n",
       "      <td>1</td>\n",
       "      <td>0</td>\n",
       "      <td>0</td>\n",
       "      <td>0</td>\n",
       "      <td>0</td>\n",
       "      <td>0</td>\n",
       "      <td>0</td>\n",
       "      <td>0</td>\n",
       "    </tr>\n",
       "    <tr>\n",
       "      <th>2</th>\n",
       "      <td>1</td>\n",
       "      <td>2017</td>\n",
       "      <td>0</td>\n",
       "      <td>0</td>\n",
       "      <td>0</td>\n",
       "      <td>0</td>\n",
       "      <td>0</td>\n",
       "      <td>0</td>\n",
       "      <td>0</td>\n",
       "      <td>1</td>\n",
       "      <td>0</td>\n",
       "      <td>0</td>\n",
       "      <td>0</td>\n",
       "      <td>0</td>\n",
       "    </tr>\n",
       "  </tbody>\n",
       "</table>\n",
       "</div>"
      ],
      "text/plain": [
       "   mes_compra  ano_compra  beleza  carro  casa  construção  crianças  \\\n",
       "0           1        2017       1      0     0           0         0   \n",
       "1           1        2017       0      0     0           0         1   \n",
       "2           1        2017       0      0     0           0         0   \n",
       "\n",
       "   eletro_eletronicos  esporte  games  outros  presentes  produtos_diversos  \\\n",
       "0                   0        0      0       0          0                  0   \n",
       "1                   0        0      0       0          0                  0   \n",
       "2                   0        0      1       0          0                  0   \n",
       "\n",
       "   telefonia_audio_video  \n",
       "0                      0  \n",
       "1                      0  \n",
       "2                      0  "
      ]
     },
     "execution_count": 86,
     "metadata": {},
     "output_type": "execute_result"
    }
   ],
   "source": [
    "# Fazendo ajustes na base para tentar melhorar o modelo\n",
    "# Podemos manter apenas alguns grupos\n",
    "# Verificando novamente o X_treino\n",
    "X_treino.head(3)"
   ]
  },
  {
   "cell_type": "code",
   "execution_count": 87,
   "id": "2d34a028",
   "metadata": {},
   "outputs": [
    {
     "data": {
      "text/plain": [
       "ano_compra               9609696\n",
       "mes_compra                 28552\n",
       "casa                         417\n",
       "beleza                       415\n",
       "esporte                      412\n",
       "outros                       411\n",
       "eletro_eletronicos           409\n",
       "telefonia_audio_video        409\n",
       "crianças                     407\n",
       "construção                   406\n",
       "produtos_diversos            395\n",
       "carro                        391\n",
       "presentes                    385\n",
       "games                        307\n",
       "dtype: int64"
      ]
     },
     "execution_count": 87,
     "metadata": {},
     "output_type": "execute_result"
    }
   ],
   "source": [
    "# Verificando quais itens mais aparecem nessa base utilizando o .sort_values()\n",
    "X_treino.sum().sort_values(ascending=False)"
   ]
  },
  {
   "cell_type": "code",
   "execution_count": 88,
   "id": "d862a419",
   "metadata": {},
   "outputs": [],
   "source": [
    "# E se mantivermos apenas as colunas de casa, beleza e esporte?\n",
    "X_treino2 = X_treino[['mes_compra', 'ano_compra', 'casa', 'beleza', 'esporte']]"
   ]
  },
  {
   "cell_type": "code",
   "execution_count": 89,
   "id": "1d141270",
   "metadata": {},
   "outputs": [],
   "source": [
    "# Criando o regressor\n",
    "regressor2 = DecisionTreeRegressor(random_state=0, max_depth=9)"
   ]
  },
  {
   "cell_type": "code",
   "execution_count": 90,
   "id": "f36c92be",
   "metadata": {},
   "outputs": [
    {
     "data": {
      "text/plain": [
       "DecisionTreeRegressor(max_depth=9, random_state=0)"
      ]
     },
     "execution_count": 90,
     "metadata": {},
     "output_type": "execute_result"
    }
   ],
   "source": [
    "# Fazendo o fit do modelo\n",
    "regressor2.fit(X_treino2, y_treino)"
   ]
  },
  {
   "cell_type": "code",
   "execution_count": 91,
   "id": "26a23189",
   "metadata": {},
   "outputs": [],
   "source": [
    "# Fazendo a previsão para a base de teste\n",
    "X_teste2 = X_teste[['mes_compra', 'ano_compra', 'casa', 'beleza', 'esporte']]\n",
    "y_arvore2 = regressor2.predict(X_teste2)"
   ]
  },
  {
   "cell_type": "code",
   "execution_count": 92,
   "id": "45752bed",
   "metadata": {},
   "outputs": [
    {
     "data": {
      "text/plain": [
       "1496.0288708086784"
      ]
     },
     "execution_count": 92,
     "metadata": {},
     "output_type": "execute_result"
    }
   ],
   "source": [
    "# Analisando o erro na nova árvore\n",
    "mean_absolute_error(y_teste, y_arvore2)"
   ]
  },
  {
   "cell_type": "code",
   "execution_count": 93,
   "id": "4b9e9f0b",
   "metadata": {},
   "outputs": [
    {
     "data": {
      "text/plain": [
       "['regressor_arvore_decisao_teste.joblib']"
      ]
     },
     "execution_count": 93,
     "metadata": {},
     "output_type": "execute_result"
    }
   ],
   "source": [
    "# Persistindo o modelo\n",
    "# Importando o joblib\n",
    "# Fazendo o dump do nosso modelo\n",
    "dump(regressor, 'regressor_arvore_decisao_teste.joblib')"
   ]
  },
  {
   "cell_type": "code",
   "execution_count": 94,
   "id": "292bd465",
   "metadata": {},
   "outputs": [],
   "source": [
    "# Exportando a base de teste para csv\n",
    "X_teste.to_excel('X_teste.xlsx', index=False)\n",
    "y_teste.to_excel('y_teste.xlsx', index=False)"
   ]
  }
 ],
 "metadata": {
  "kernelspec": {
   "display_name": "Python 3 (ipykernel)",
   "language": "python",
   "name": "python3"
  },
  "language_info": {
   "codemirror_mode": {
    "name": "ipython",
    "version": 3
   },
   "file_extension": ".py",
   "mimetype": "text/x-python",
   "name": "python",
   "nbconvert_exporter": "python",
   "pygments_lexer": "ipython3",
   "version": "3.9.7"
  }
 },
 "nbformat": 4,
 "nbformat_minor": 5
}
